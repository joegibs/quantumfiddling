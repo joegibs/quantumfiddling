{
 "cells": [
  {
   "cell_type": "code",
   "execution_count": 52,
   "id": "38dbfbbb-be87-404f-b49a-ab383c4cd780",
   "metadata": {},
   "outputs": [
    {
     "name": "stdout",
     "output_type": "stream",
     "text": [
      "The directory \"C:\\Users\\jogib\\.julia\\sysimages\" doesn't exist yet, creating it now.\n",
      "\n",
      "Creating the system image \"C:\\Users\\jogib\\.julia\\sysimages\\sys_itensors.so\" containing the compiled version of ITensors. This may take a few minutes.\n"
     ]
    },
    {
     "name": "stderr",
     "output_type": "stream",
     "text": [
      "\u001b[32m\u001b[1mPrecompiling\u001b[22m\u001b[39m project...\n",
      "\u001b[33m  ✓ \u001b[39m\u001b[90mNDTensors\u001b[39m\n",
      "\u001b[33m  ✓ \u001b[39mITensors\n",
      "  2 dependencies successfully precompiled in 21 seconds (168 already precompiled)\n",
      "  \u001b[33m2\u001b[39m dependencies precompiled but different versions are currently loaded. Restart julia to access the new versions\n",
      "┌ Info: ===== Start precompile execution =====\n",
      "└ @ PackageCompiler C:\\Users\\jogib\\.julia\\packages\\PackageCompiler\\r8Xcy\\src\\PackageCompiler.jl:245\n"
     ]
    },
    {
     "name": "stdout",
     "output_type": "stream",
     "text": [
      "After sweep 1 energy=-7.266342685676149  maxlinkdim=10 maxerr=2.32E-05 time=27.106\n",
      "After sweep 2 energy=-7.363892148792675  maxlinkdim=10 maxerr=8.82E-04 time=0.019\n",
      "After sweep 3 energy=-7.366108714437725  maxlinkdim=10 maxerr=9.18E-04 time=0.028\n",
      "After sweep 1 energy=-7.299760028906274  maxlinkdim=10 maxerr=2.57E-05 time=18.159\n",
      "After sweep 2 energy=-7.365738246233662  maxlinkdim=10 maxerr=8.76E-04 time=0.057\n",
      "After sweep 3 energy=-7.366113596923488  maxlinkdim=10 maxerr=9.22E-04 time=0.032\n"
     ]
    },
    {
     "name": "stderr",
     "output_type": "stream",
     "text": [
      "┌ Info: ===== End precompile execution =====\n",
      "└ @ PackageCompiler C:\\Users\\jogib\\.julia\\packages\\PackageCompiler\\r8Xcy\\src\\PackageCompiler.jl:247\n",
      "┌ Info: PackageCompiler: creating system image object file, this might take a while...\n",
      "└ @ PackageCompiler C:\\Users\\jogib\\.julia\\packages\\PackageCompiler\\r8Xcy\\src\\PackageCompiler.jl:366\n",
      "\u001b[32m\u001b[1m Downloading\u001b[22m\u001b[39m artifact: x86_64-w64-mingw32\n"
     ]
    },
    {
     "name": "stdout",
     "output_type": "stream",
     "text": [
      "You will be able to start Julia with a compiled version of ITensors using:\n",
      "```\n",
      "~ julia --sysimage C:\\Users\\jogib\\.julia\\sysimages\\sys_itensors.so\n",
      "```\n",
      "and you should see that the startup times and JIT compilation times are substantially improved when you are using ITensors.\n",
      "\n",
      "In unix, you can create an alias with the Bash command:\n",
      "```\n",
      "~ alias julia_itensors=\"julia --sysimage C:\\Users\\jogib\\.julia\\sysimages\\sys_itensors.so -e 'using ITensors' -i\"\n",
      "```\n",
      "which you can put in your `~/.bashrc`, `~/.zshrc`, etc. This also executes `using ITensors` so that ITensors is loaded and ready to use, you can leave off ` -e 'using ITensors' -i` if you don't want that. Then you can start Julia with a version of ITensors installed with the command:\n",
      "```\n",
      "~ julia_itensors\n",
      "```\n",
      "\n",
      "Note that if you update ITensors to a new version, for example with `using Pkg; Pkg.update(\"ITensors\")`, you will need to run the `ITensors.compile()` command again to recompile the new version of ITensors.\n",
      "\n"
     ]
    },
    {
     "data": {
      "text/plain": [
       "\"C:\\\\Users\\\\jogib\\\\.julia\\\\sysimages\\\\sys_itensors.so\""
      ]
     },
     "execution_count": 52,
     "metadata": {},
     "output_type": "execute_result"
    }
   ],
   "source": [
    "using ITensors\n",
    "ITensors.compile()"
   ]
  },
  {
   "cell_type": "code",
   "execution_count": 2,
   "id": "c09e4b6b-997a-470b-aa7c-b30cb624cd57",
   "metadata": {},
   "outputs": [
    {
     "name": "stdout",
     "output_type": "stream",
     "text": [
      "hasinds(U, i, k) = true\n",
      "hasinds(V, j, l) = true\n",
      "T ≈ U * S * V = true\n"
     ]
    }
   ],
   "source": [
    "let\n",
    "  i = Index(4,\"i\")\n",
    "  j = Index(4,\"j\")\n",
    "  k = Index(4,\"k\")\n",
    "  l = Index(4,\"l\")\n",
    "  T = randomITensor(i,j,k,l)\n",
    "  U,S,V = svd(T,i,k)   # compute SVD with (i,k) as row indices (indices of U)\n",
    "  @show hasinds(U,i,k) # = true\n",
    "  @show hasinds(V,j,l) # = true\n",
    "  @show T ≈ U*S*V      # = true\n",
    "\n",
    "  nothing\n",
    "end"
   ]
  },
  {
   "cell_type": "code",
   "execution_count": 48,
   "id": "83438ce8-a353-4c96-a033-db2e3b839433",
   "metadata": {},
   "outputs": [
    {
     "name": "stdout",
     "output_type": "stream",
     "text": [
      "sweeps = Sweeps\n",
      "1 cutoff=1.0E-10, maxdim=10, mindim=1, noise=0.0E+00\n",
      "2 cutoff=1.0E-10, maxdim=20, mindim=1, noise=0.0E+00\n",
      "3 cutoff=1.0E-10, maxdim=100, mindim=1, noise=0.0E+00\n",
      "4 cutoff=1.0E-10, maxdim=100, mindim=1, noise=0.0E+00\n",
      "5 cutoff=1.0E-10, maxdim=200, mindim=1, noise=0.0E+00\n",
      "\n",
      "After sweep 1 energy=-138.061319377806 maxlinkdim=9 time=0.739\n",
      "After sweep 2 energy=-138.935940264115 maxlinkdim=20 time=2.396\n",
      "After sweep 3 energy=-138.940082562949 maxlinkdim=91 time=13.322\n",
      "After sweep 4 energy=-138.940086050552 maxlinkdim=99 time=24.103\n",
      "After sweep 5 energy=-138.940086063340 maxlinkdim=96 time=24.976\n",
      "Final energy = -138.94008606334032\n"
     ]
    }
   ],
   "source": [
    "using ITensors\n",
    "let\n",
    "  # Create 100 spin-one indices\n",
    "  N = 100\n",
    "  sites = siteinds(\"S=1\",N)\n",
    "\n",
    "  # Input operator terms which define\n",
    "  # a Hamiltonian matrix, and convert\n",
    "  # these terms to an MPO tensor network\n",
    "  # (here we make the 1D Heisenberg model)\n",
    "  ampo = AutoMPO()\n",
    "  for j=1:N-1\n",
    "    ampo += \"Sz\",j,\"Sz\",j+1\n",
    "    ampo += 0.5,\"S+\",j,\"S-\",j+1\n",
    "    ampo += 0.5,\"S-\",j,\"S+\",j+1\n",
    "  end\n",
    "  H = MPO(ampo,sites)\n",
    "\n",
    "  # Create an initial random matrix product state\n",
    "  psi0 = randomMPS(sites)\n",
    "\n",
    "  # Plan to do 5 passes or 'sweeps' of DMRG,\n",
    "  # setting maximum MPS internal dimensions\n",
    "  # for each sweep and maximum truncation cutoff\n",
    "  # used when adapting internal dimensions:\n",
    "  sweeps = Sweeps(5)\n",
    "  maxdim!(sweeps, 10,20,100,100,200)\n",
    "  cutoff!(sweeps, 1E-10)\n",
    "  @show sweeps\n",
    "\n",
    "  # Run the DMRG algorithm, returning energy\n",
    "  # (dominant eigenvalue) and optimized MPS\n",
    "  energy, psi = dmrg(H,psi0, sweeps)\n",
    "  println(\"Final energy = $energy\")\n",
    "\n",
    "  nothing\n",
    "end"
   ]
  },
  {
   "cell_type": "code",
   "execution_count": 44,
   "id": "34df20b3-b678-429d-879e-141318e09afb",
   "metadata": {},
   "outputs": [
    {
     "name": "stdout",
     "output_type": "stream",
     "text": [
      "search: \u001b[0m\u001b[1mI\u001b[22m\u001b[0m\u001b[1mT\u001b[22m\u001b[0m\u001b[1me\u001b[22m\u001b[0m\u001b[1mn\u001b[22m\u001b[0m\u001b[1ms\u001b[22m\u001b[0m\u001b[1mo\u001b[22m\u001b[0m\u001b[1mr\u001b[22m \u001b[0m\u001b[1mI\u001b[22m\u001b[0m\u001b[1mT\u001b[22m\u001b[0m\u001b[1me\u001b[22m\u001b[0m\u001b[1mn\u001b[22m\u001b[0m\u001b[1ms\u001b[22m\u001b[0m\u001b[1mo\u001b[22m\u001b[0m\u001b[1mr\u001b[22ms \u001b[0m\u001b[1mi\u001b[22m\u001b[0m\u001b[1mt\u001b[22m\u001b[0m\u001b[1me\u001b[22m\u001b[0m\u001b[1mn\u001b[22m\u001b[0m\u001b[1ms\u001b[22m\u001b[0m\u001b[1mo\u001b[22m\u001b[0m\u001b[1mr\u001b[22m empty\u001b[0m\u001b[1mI\u001b[22m\u001b[0m\u001b[1mT\u001b[22m\u001b[0m\u001b[1me\u001b[22m\u001b[0m\u001b[1mn\u001b[22m\u001b[0m\u001b[1ms\u001b[22m\u001b[0m\u001b[1mo\u001b[22m\u001b[0m\u001b[1mr\u001b[22m random\u001b[0m\u001b[1mI\u001b[22m\u001b[0m\u001b[1mT\u001b[22m\u001b[0m\u001b[1me\u001b[22m\u001b[0m\u001b[1mn\u001b[22m\u001b[0m\u001b[1ms\u001b[22m\u001b[0m\u001b[1mo\u001b[22m\u001b[0m\u001b[1mr\u001b[22m d\u001b[0m\u001b[1mi\u001b[22magI\u001b[0m\u001b[1mT\u001b[22m\u001b[0m\u001b[1me\u001b[22m\u001b[0m\u001b[1mn\u001b[22m\u001b[0m\u001b[1ms\u001b[22m\u001b[0m\u001b[1mo\u001b[22m\u001b[0m\u001b[1mr\u001b[22m s\u001b[0m\u001b[1mi\u001b[22m\u001b[0m\u001b[1mt\u001b[22m\u001b[0m\u001b[1me\u001b[22mi\u001b[0m\u001b[1mn\u001b[22md\u001b[0m\u001b[1ms\u001b[22m\n",
      "\n"
     ]
    },
    {
     "data": {
      "text/latex": [
       "An ITensor is a tensor whose interface is  independent of its memory layout. Therefore it is not necessary to know the ordering of an ITensor's indices, only which indices an ITensor has. Operations like contraction and addition of ITensors automatically handle any memory permutations.\n",
       "\n",
       "\\rule{\\textwidth}{1pt}\n",
       "\\begin{verbatim}\n",
       "ITensor(st::TensorStorage, is)\n",
       "\\end{verbatim}\n",
       "Constructor for an ITensor from a TensorStorage and a set of indices. The TensorStorage is copied (the ITensor owns the storage data).\n",
       "\n",
       "\\rule{\\textwidth}{1pt}\n",
       "\\begin{verbatim}\n",
       "ITensor(::Tensor)\n",
       "\\end{verbatim}\n",
       "Convert a Tensor to an ITensor with a copy of the storage and indices.\n",
       "\n",
       "To make an ITensor that shares the same storage as the Tensor, is the function \\texttt{itensor(::Tensor)}.\n",
       "\n",
       "\\rule{\\textwidth}{1pt}\n",
       "\\begin{verbatim}\n",
       "ITensor([::Type{ElT} = Float64, ]inds)\n",
       "ITensor([::Type{ElT} = Float64, ]inds::Index...)\n",
       "\\end{verbatim}\n",
       "Construct an ITensor filled with zeros having indices \\texttt{inds} and element type \\texttt{ElT}. If the element type is not specified, it defaults to \\texttt{Float64}.\n",
       "\n",
       "The storage will have \\texttt{NDTensors.Dense} type.\n",
       "\n",
       "\\rule{\\textwidth}{1pt}\n",
       "\\begin{verbatim}\n",
       "ITensor([::Type{ElT} = Float64, ]::UndefInitializer, inds)\n",
       "ITensor([::Type{ElT} = Float64, ]::UndefInitializer, inds::Index...)\n",
       "\\end{verbatim}\n",
       "Construct an ITensor filled with undefined elements having indices \\texttt{inds} and element type \\texttt{ElT}. If the element type is not specified, it defaults to \\texttt{Float64}.\n",
       "\n",
       "The storage will have \\texttt{NDTensors.Dense} type.\n",
       "\n",
       "\\rule{\\textwidth}{1pt}\n",
       "\\begin{verbatim}\n",
       "ITensor(x::Number, inds)\n",
       "ITensor(x::Number, inds::Index...)\n",
       "\\end{verbatim}\n",
       "Construct an ITensor with all elements set to \\texttt{float(x)} and indices \\texttt{inds}.\n",
       "\n",
       "The storage will have \\texttt{NDTensors.Dense} type.\n",
       "\n",
       "\\rule{\\textwidth}{1pt}\n",
       "\\begin{verbatim}\n",
       "ITensor(A::Array, inds)\n",
       "ITensor(A::Array, inds::Index...)\n",
       "\\end{verbatim}\n",
       "Construct an ITensor from an Array \\texttt{A} and indices \\texttt{inds}. The ITensor will be the closest floating point storage to the Array (\\texttt{float(A)}), and the storage will store a copy of the Array data.\n",
       "\n",
       "\\rule{\\textwidth}{1pt}\n",
       "\\begin{verbatim}\n",
       "ITensor([::Type{ElT} = Float64, ][flux::QN = QN(), ]inds)\n",
       "ITensor([::Type{ElT} = Float64, ][flux::QN = QN(), ]inds::Index...)\n",
       "\\end{verbatim}\n",
       "Construct an ITensor with BlockSparse storage filled with \\texttt{zero(ElT)} where the nonzero blocks are determined by \\texttt{flux}.\n",
       "\n",
       "If \\texttt{ElT} is not specified it defaults to \\texttt{Float64}.\n",
       "\n"
      ],
      "text/markdown": [
       "An ITensor is a tensor whose interface is  independent of its memory layout. Therefore it is not necessary to know the ordering of an ITensor's indices, only which indices an ITensor has. Operations like contraction and addition of ITensors automatically handle any memory permutations.\n",
       "\n",
       "---\n",
       "\n",
       "```\n",
       "ITensor(st::TensorStorage, is)\n",
       "```\n",
       "\n",
       "Constructor for an ITensor from a TensorStorage and a set of indices. The TensorStorage is copied (the ITensor owns the storage data).\n",
       "\n",
       "---\n",
       "\n",
       "```\n",
       "ITensor(::Tensor)\n",
       "```\n",
       "\n",
       "Convert a Tensor to an ITensor with a copy of the storage and indices.\n",
       "\n",
       "To make an ITensor that shares the same storage as the Tensor, is the function `itensor(::Tensor)`.\n",
       "\n",
       "---\n",
       "\n",
       "```\n",
       "ITensor([::Type{ElT} = Float64, ]inds)\n",
       "ITensor([::Type{ElT} = Float64, ]inds::Index...)\n",
       "```\n",
       "\n",
       "Construct an ITensor filled with zeros having indices `inds` and element type `ElT`. If the element type is not specified, it defaults to `Float64`.\n",
       "\n",
       "The storage will have `NDTensors.Dense` type.\n",
       "\n",
       "---\n",
       "\n",
       "```\n",
       "ITensor([::Type{ElT} = Float64, ]::UndefInitializer, inds)\n",
       "ITensor([::Type{ElT} = Float64, ]::UndefInitializer, inds::Index...)\n",
       "```\n",
       "\n",
       "Construct an ITensor filled with undefined elements having indices `inds` and element type `ElT`. If the element type is not specified, it defaults to `Float64`.\n",
       "\n",
       "The storage will have `NDTensors.Dense` type.\n",
       "\n",
       "---\n",
       "\n",
       "```\n",
       "ITensor(x::Number, inds)\n",
       "ITensor(x::Number, inds::Index...)\n",
       "```\n",
       "\n",
       "Construct an ITensor with all elements set to `float(x)` and indices `inds`.\n",
       "\n",
       "The storage will have `NDTensors.Dense` type.\n",
       "\n",
       "---\n",
       "\n",
       "```\n",
       "ITensor(A::Array, inds)\n",
       "ITensor(A::Array, inds::Index...)\n",
       "```\n",
       "\n",
       "Construct an ITensor from an Array `A` and indices `inds`. The ITensor will be the closest floating point storage to the Array (`float(A)`), and the storage will store a copy of the Array data.\n",
       "\n",
       "---\n",
       "\n",
       "```\n",
       "ITensor([::Type{ElT} = Float64, ][flux::QN = QN(), ]inds)\n",
       "ITensor([::Type{ElT} = Float64, ][flux::QN = QN(), ]inds::Index...)\n",
       "```\n",
       "\n",
       "Construct an ITensor with BlockSparse storage filled with `zero(ElT)` where the nonzero blocks are determined by `flux`.\n",
       "\n",
       "If `ElT` is not specified it defaults to `Float64`.\n"
      ],
      "text/plain": [
       "  An ITensor is a tensor whose interface is independent of its memory layout.\n",
       "  Therefore it is not necessary to know the ordering of an ITensor's indices,\n",
       "  only which indices an ITensor has. Operations like contraction and addition\n",
       "  of ITensors automatically handle any memory permutations.\n",
       "\n",
       "  ────────────────────────────────────────────────────────────────────────────\n",
       "\n",
       "\u001b[36m  ITensor(st::TensorStorage, is)\u001b[39m\n",
       "\n",
       "  Constructor for an ITensor from a TensorStorage and a set of indices. The\n",
       "  TensorStorage is copied (the ITensor owns the storage data).\n",
       "\n",
       "  ────────────────────────────────────────────────────────────────────────────\n",
       "\n",
       "\u001b[36m  ITensor(::Tensor)\u001b[39m\n",
       "\n",
       "  Convert a Tensor to an ITensor with a copy of the storage and indices.\n",
       "\n",
       "  To make an ITensor that shares the same storage as the Tensor, is the\n",
       "  function \u001b[36mitensor(::Tensor)\u001b[39m.\n",
       "\n",
       "  ────────────────────────────────────────────────────────────────────────────\n",
       "\n",
       "\u001b[36m  ITensor([::Type{ElT} = Float64, ]inds)\u001b[39m\n",
       "\u001b[36m  ITensor([::Type{ElT} = Float64, ]inds::Index...)\u001b[39m\n",
       "\n",
       "  Construct an ITensor filled with zeros having indices \u001b[36minds\u001b[39m and element type\n",
       "  \u001b[36mElT\u001b[39m. If the element type is not specified, it defaults to \u001b[36mFloat64\u001b[39m.\n",
       "\n",
       "  The storage will have \u001b[36mNDTensors.Dense\u001b[39m type.\n",
       "\n",
       "  ────────────────────────────────────────────────────────────────────────────\n",
       "\n",
       "\u001b[36m  ITensor([::Type{ElT} = Float64, ]::UndefInitializer, inds)\u001b[39m\n",
       "\u001b[36m  ITensor([::Type{ElT} = Float64, ]::UndefInitializer, inds::Index...)\u001b[39m\n",
       "\n",
       "  Construct an ITensor filled with undefined elements having indices \u001b[36minds\u001b[39m and\n",
       "  element type \u001b[36mElT\u001b[39m. If the element type is not specified, it defaults to\n",
       "  \u001b[36mFloat64\u001b[39m.\n",
       "\n",
       "  The storage will have \u001b[36mNDTensors.Dense\u001b[39m type.\n",
       "\n",
       "  ────────────────────────────────────────────────────────────────────────────\n",
       "\n",
       "\u001b[36m  ITensor(x::Number, inds)\u001b[39m\n",
       "\u001b[36m  ITensor(x::Number, inds::Index...)\u001b[39m\n",
       "\n",
       "  Construct an ITensor with all elements set to \u001b[36mfloat(x)\u001b[39m and indices \u001b[36minds\u001b[39m.\n",
       "\n",
       "  The storage will have \u001b[36mNDTensors.Dense\u001b[39m type.\n",
       "\n",
       "  ────────────────────────────────────────────────────────────────────────────\n",
       "\n",
       "\u001b[36m  ITensor(A::Array, inds)\u001b[39m\n",
       "\u001b[36m  ITensor(A::Array, inds::Index...)\u001b[39m\n",
       "\n",
       "  Construct an ITensor from an Array \u001b[36mA\u001b[39m and indices \u001b[36minds\u001b[39m. The ITensor will be\n",
       "  the closest floating point storage to the Array (\u001b[36mfloat(A)\u001b[39m), and the storage\n",
       "  will store a copy of the Array data.\n",
       "\n",
       "  ────────────────────────────────────────────────────────────────────────────\n",
       "\n",
       "\u001b[36m  ITensor([::Type{ElT} = Float64, ][flux::QN = QN(), ]inds)\u001b[39m\n",
       "\u001b[36m  ITensor([::Type{ElT} = Float64, ][flux::QN = QN(), ]inds::Index...)\u001b[39m\n",
       "\n",
       "  Construct an ITensor with BlockSparse storage filled with \u001b[36mzero(ElT)\u001b[39m where\n",
       "  the nonzero blocks are determined by \u001b[36mflux\u001b[39m.\n",
       "\n",
       "  If \u001b[36mElT\u001b[39m is not specified it defaults to \u001b[36mFloat64\u001b[39m."
      ]
     },
     "execution_count": 44,
     "metadata": {},
     "output_type": "execute_result"
    }
   ],
   "source": [
    "?ITensor"
   ]
  },
  {
   "cell_type": "code",
   "execution_count": 7,
   "id": "f62f683c-e88f-4f1b-b4d1-8f349a9e5072",
   "metadata": {},
   "outputs": [
    {
     "data": {
      "text/plain": [
       "100-element Vector{Index{Int64}}:\n",
       " (dim=3|id=781|\"S=1,Site,n=1\")\n",
       " (dim=3|id=549|\"S=1,Site,n=2\")\n",
       " (dim=3|id=565|\"S=1,Site,n=3\")\n",
       " (dim=3|id=725|\"S=1,Site,n=4\")\n",
       " (dim=3|id=699|\"S=1,Site,n=5\")\n",
       " (dim=3|id=864|\"S=1,Site,n=6\")\n",
       " (dim=3|id=470|\"S=1,Site,n=7\")\n",
       " (dim=3|id=954|\"S=1,Site,n=8\")\n",
       " (dim=3|id=134|\"S=1,Site,n=9\")\n",
       " (dim=3|id=661|\"S=1,Site,n=10\")\n",
       " (dim=3|id=605|\"S=1,Site,n=11\")\n",
       " (dim=3|id=46|\"S=1,Site,n=12\")\n",
       " (dim=3|id=973|\"S=1,Site,n=13\")\n",
       " ⋮\n",
       " (dim=3|id=508|\"S=1,Site,n=89\")\n",
       " (dim=3|id=888|\"S=1,Site,n=90\")\n",
       " (dim=3|id=878|\"S=1,Site,n=91\")\n",
       " (dim=3|id=671|\"S=1,Site,n=92\")\n",
       " (dim=3|id=303|\"S=1,Site,n=93\")\n",
       " (dim=3|id=940|\"S=1,Site,n=94\")\n",
       " (dim=3|id=141|\"S=1,Site,n=95\")\n",
       " (dim=3|id=185|\"S=1,Site,n=96\")\n",
       " (dim=3|id=972|\"S=1,Site,n=97\")\n",
       " (dim=3|id=792|\"S=1,Site,n=98\")\n",
       " (dim=3|id=299|\"S=1,Site,n=99\")\n",
       " (dim=3|id=373|\"S=1,Site,n=100\")"
      ]
     },
     "execution_count": 7,
     "metadata": {},
     "output_type": "execute_result"
    }
   ],
   "source": [
    "N = 100\n",
    "sites = siteinds(\"S=1\",N)"
   ]
  },
  {
   "cell_type": "code",
   "execution_count": 8,
   "id": "3eda4f02-8f6b-4584-a9cd-98345c36f054",
   "metadata": {},
   "outputs": [
    {
     "data": {
      "text/plain": [
       "OpName"
      ]
     },
     "execution_count": 8,
     "metadata": {},
     "output_type": "execute_result"
    }
   ],
   "source": [
    "OpName"
   ]
  },
  {
   "cell_type": "code",
   "execution_count": 13,
   "id": "d2934a82-0e6a-428b-a593-ba29e69a6ce4",
   "metadata": {},
   "outputs": [
    {
     "data": {
      "text/plain": [
       "MPO\n",
       "[1] IndexSet{3} (dim=5|id=668|\"Link,l=1\") (dim=3|id=781|\"S=1,Site,n=1\")' (dim=3|id=781|\"S=1,Site,n=1\") \n",
       "[2] IndexSet{4} (dim=5|id=668|\"Link,l=1\") (dim=5|id=311|\"Link,l=2\") (dim=3|id=549|\"S=1,Site,n=2\")' (dim=3|id=549|\"S=1,Site,n=2\") \n",
       "[3] IndexSet{4} (dim=5|id=311|\"Link,l=2\") (dim=5|id=327|\"Link,l=3\") (dim=3|id=565|\"S=1,Site,n=3\")' (dim=3|id=565|\"S=1,Site,n=3\") \n",
       "[4] IndexSet{4} (dim=5|id=327|\"Link,l=3\") (dim=5|id=324|\"Link,l=4\") (dim=3|id=725|\"S=1,Site,n=4\")' (dim=3|id=725|\"S=1,Site,n=4\") \n",
       "[5] IndexSet{4} (dim=5|id=324|\"Link,l=4\") (dim=5|id=428|\"Link,l=5\") (dim=3|id=699|\"S=1,Site,n=5\")' (dim=3|id=699|\"S=1,Site,n=5\") \n",
       "[6] IndexSet{4} (dim=5|id=428|\"Link,l=5\") (dim=5|id=387|\"Link,l=6\") (dim=3|id=864|\"S=1,Site,n=6\")' (dim=3|id=864|\"S=1,Site,n=6\") \n",
       "[7] IndexSet{4} (dim=5|id=387|\"Link,l=6\") (dim=5|id=284|\"Link,l=7\") (dim=3|id=470|\"S=1,Site,n=7\")' (dim=3|id=470|\"S=1,Site,n=7\") \n",
       "[8] IndexSet{4} (dim=5|id=284|\"Link,l=7\") (dim=5|id=210|\"Link,l=8\") (dim=3|id=954|\"S=1,Site,n=8\")' (dim=3|id=954|\"S=1,Site,n=8\") \n",
       "[9] IndexSet{4} (dim=5|id=210|\"Link,l=8\") (dim=5|id=620|\"Link,l=9\") (dim=3|id=134|\"S=1,Site,n=9\")' (dim=3|id=134|\"S=1,Site,n=9\") \n",
       "[10] IndexSet{4} (dim=5|id=620|\"Link,l=9\") (dim=5|id=829|\"Link,l=10\") (dim=3|id=661|\"S=1,Site,n=10\")' (dim=3|id=661|\"S=1,Site,n=10\") \n",
       "[11] IndexSet{4} (dim=5|id=829|\"Link,l=10\") (dim=5|id=230|\"Link,l=11\") (dim=3|id=605|\"S=1,Site,n=11\")' (dim=3|id=605|\"S=1,Site,n=11\") \n",
       "[12] IndexSet{4} (dim=5|id=230|\"Link,l=11\") (dim=5|id=458|\"Link,l=12\") (dim=3|id=46|\"S=1,Site,n=12\")' (dim=3|id=46|\"S=1,Site,n=12\") \n",
       "[13] IndexSet{4} (dim=5|id=458|\"Link,l=12\") (dim=5|id=802|\"Link,l=13\") (dim=3|id=973|\"S=1,Site,n=13\")' (dim=3|id=973|\"S=1,Site,n=13\") \n",
       "[14] IndexSet{4} (dim=5|id=802|\"Link,l=13\") (dim=5|id=420|\"Link,l=14\") (dim=3|id=585|\"S=1,Site,n=14\")' (dim=3|id=585|\"S=1,Site,n=14\") \n",
       "[15] IndexSet{4} (dim=5|id=420|\"Link,l=14\") (dim=5|id=932|\"Link,l=15\") (dim=3|id=307|\"S=1,Site,n=15\")' (dim=3|id=307|\"S=1,Site,n=15\") \n",
       "[16] IndexSet{4} (dim=5|id=932|\"Link,l=15\") (dim=5|id=79|\"Link,l=16\") (dim=3|id=942|\"S=1,Site,n=16\")' (dim=3|id=942|\"S=1,Site,n=16\") \n",
       "[17] IndexSet{4} (dim=5|id=79|\"Link,l=16\") (dim=5|id=252|\"Link,l=17\") (dim=3|id=286|\"S=1,Site,n=17\")' (dim=3|id=286|\"S=1,Site,n=17\") \n",
       "[18] IndexSet{4} (dim=5|id=252|\"Link,l=17\") (dim=5|id=117|\"Link,l=18\") (dim=3|id=747|\"S=1,Site,n=18\")' (dim=3|id=747|\"S=1,Site,n=18\") \n",
       "[19] IndexSet{4} (dim=5|id=117|\"Link,l=18\") (dim=5|id=205|\"Link,l=19\") (dim=3|id=421|\"S=1,Site,n=19\")' (dim=3|id=421|\"S=1,Site,n=19\") \n",
       "[20] IndexSet{4} (dim=5|id=205|\"Link,l=19\") (dim=5|id=964|\"Link,l=20\") (dim=3|id=152|\"S=1,Site,n=20\")' (dim=3|id=152|\"S=1,Site,n=20\") \n",
       "[21] IndexSet{4} (dim=5|id=964|\"Link,l=20\") (dim=5|id=99|\"Link,l=21\") (dim=3|id=47|\"S=1,Site,n=21\")' (dim=3|id=47|\"S=1,Site,n=21\") \n",
       "[22] IndexSet{4} (dim=5|id=99|\"Link,l=21\") (dim=5|id=158|\"Link,l=22\") (dim=3|id=804|\"S=1,Site,n=22\")' (dim=3|id=804|\"S=1,Site,n=22\") \n",
       "[23] IndexSet{4} (dim=5|id=158|\"Link,l=22\") (dim=5|id=606|\"Link,l=23\") (dim=3|id=323|\"S=1,Site,n=23\")' (dim=3|id=323|\"S=1,Site,n=23\") \n",
       "[24] IndexSet{4} (dim=5|id=606|\"Link,l=23\") (dim=5|id=172|\"Link,l=24\") (dim=3|id=473|\"S=1,Site,n=24\")' (dim=3|id=473|\"S=1,Site,n=24\") \n",
       "[25] IndexSet{4} (dim=5|id=172|\"Link,l=24\") (dim=5|id=573|\"Link,l=25\") (dim=3|id=11|\"S=1,Site,n=25\")' (dim=3|id=11|\"S=1,Site,n=25\") \n",
       "[26] IndexSet{4} (dim=5|id=573|\"Link,l=25\") (dim=5|id=949|\"Link,l=26\") (dim=3|id=68|\"S=1,Site,n=26\")' (dim=3|id=68|\"S=1,Site,n=26\") \n",
       "[27] IndexSet{4} (dim=5|id=949|\"Link,l=26\") (dim=5|id=646|\"Link,l=27\") (dim=3|id=743|\"S=1,Site,n=27\")' (dim=3|id=743|\"S=1,Site,n=27\") \n",
       "[28] IndexSet{4} (dim=5|id=646|\"Link,l=27\") (dim=5|id=758|\"Link,l=28\") (dim=3|id=817|\"S=1,Site,n=28\")' (dim=3|id=817|\"S=1,Site,n=28\") \n",
       "[29] IndexSet{4} (dim=5|id=758|\"Link,l=28\") (dim=5|id=119|\"Link,l=29\") (dim=3|id=208|\"S=1,Site,n=29\")' (dim=3|id=208|\"S=1,Site,n=29\") \n",
       "[30] IndexSet{4} (dim=5|id=119|\"Link,l=29\") (dim=5|id=687|\"Link,l=30\") (dim=3|id=875|\"S=1,Site,n=30\")' (dim=3|id=875|\"S=1,Site,n=30\") \n",
       "[31] IndexSet{4} (dim=5|id=687|\"Link,l=30\") (dim=5|id=489|\"Link,l=31\") (dim=3|id=442|\"S=1,Site,n=31\")' (dim=3|id=442|\"S=1,Site,n=31\") \n",
       "[32] IndexSet{4} (dim=5|id=489|\"Link,l=31\") (dim=5|id=887|\"Link,l=32\") (dim=3|id=432|\"S=1,Site,n=32\")' (dim=3|id=432|\"S=1,Site,n=32\") \n",
       "[33] IndexSet{4} (dim=5|id=887|\"Link,l=32\") (dim=5|id=255|\"Link,l=33\") (dim=3|id=399|\"S=1,Site,n=33\")' (dim=3|id=399|\"S=1,Site,n=33\") \n",
       "[34] IndexSet{4} (dim=5|id=255|\"Link,l=33\") (dim=5|id=949|\"Link,l=34\") (dim=3|id=278|\"S=1,Site,n=34\")' (dim=3|id=278|\"S=1,Site,n=34\") \n",
       "[35] IndexSet{4} (dim=5|id=949|\"Link,l=34\") (dim=5|id=248|\"Link,l=35\") (dim=3|id=882|\"S=1,Site,n=35\")' (dim=3|id=882|\"S=1,Site,n=35\") \n",
       "[36] IndexSet{4} (dim=5|id=248|\"Link,l=35\") (dim=5|id=251|\"Link,l=36\") (dim=3|id=783|\"S=1,Site,n=36\")' (dim=3|id=783|\"S=1,Site,n=36\") \n",
       "[37] IndexSet{4} (dim=5|id=251|\"Link,l=36\") (dim=5|id=464|\"Link,l=37\") (dim=3|id=509|\"S=1,Site,n=37\")' (dim=3|id=509|\"S=1,Site,n=37\") \n",
       "[38] IndexSet{4} (dim=5|id=464|\"Link,l=37\") (dim=5|id=152|\"Link,l=38\") (dim=3|id=903|\"S=1,Site,n=38\")' (dim=3|id=903|\"S=1,Site,n=38\") \n",
       "[39] IndexSet{4} (dim=5|id=152|\"Link,l=38\") (dim=5|id=463|\"Link,l=39\") (dim=3|id=422|\"S=1,Site,n=39\")' (dim=3|id=422|\"S=1,Site,n=39\") \n",
       "[40] IndexSet{4} (dim=5|id=463|\"Link,l=39\") (dim=5|id=23|\"Link,l=40\") (dim=3|id=22|\"S=1,Site,n=40\")' (dim=3|id=22|\"S=1,Site,n=40\") \n",
       "[41] IndexSet{4} (dim=5|id=23|\"Link,l=40\") (dim=5|id=145|\"Link,l=41\") (dim=3|id=531|\"S=1,Site,n=41\")' (dim=3|id=531|\"S=1,Site,n=41\") \n",
       "[42] IndexSet{4} (dim=5|id=145|\"Link,l=41\") (dim=5|id=103|\"Link,l=42\") (dim=3|id=662|\"S=1,Site,n=42\")' (dim=3|id=662|\"S=1,Site,n=42\") \n",
       "[43] IndexSet{4} (dim=5|id=103|\"Link,l=42\") (dim=5|id=952|\"Link,l=43\") (dim=3|id=114|\"S=1,Site,n=43\")' (dim=3|id=114|\"S=1,Site,n=43\") \n",
       "[44] IndexSet{4} (dim=5|id=952|\"Link,l=43\") (dim=5|id=707|\"Link,l=44\") (dim=3|id=77|\"S=1,Site,n=44\")' (dim=3|id=77|\"S=1,Site,n=44\") \n",
       "[45] IndexSet{4} (dim=5|id=707|\"Link,l=44\") (dim=5|id=747|\"Link,l=45\") (dim=3|id=263|\"S=1,Site,n=45\")' (dim=3|id=263|\"S=1,Site,n=45\") \n",
       "[46] IndexSet{4} (dim=5|id=747|\"Link,l=45\") (dim=5|id=42|\"Link,l=46\") (dim=3|id=384|\"S=1,Site,n=46\")' (dim=3|id=384|\"S=1,Site,n=46\") \n",
       "[47] IndexSet{4} (dim=5|id=42|\"Link,l=46\") (dim=5|id=421|\"Link,l=47\") (dim=3|id=833|\"S=1,Site,n=47\")' (dim=3|id=833|\"S=1,Site,n=47\") \n",
       "[48] IndexSet{4} (dim=5|id=421|\"Link,l=47\") (dim=5|id=511|\"Link,l=48\") (dim=3|id=547|\"S=1,Site,n=48\")' (dim=3|id=547|\"S=1,Site,n=48\") \n",
       "[49] IndexSet{4} (dim=5|id=511|\"Link,l=48\") (dim=5|id=905|\"Link,l=49\") (dim=3|id=623|\"S=1,Site,n=49\")' (dim=3|id=623|\"S=1,Site,n=49\") \n",
       "[50] IndexSet{4} (dim=5|id=905|\"Link,l=49\") (dim=5|id=378|\"Link,l=50\") (dim=3|id=819|\"S=1,Site,n=50\")' (dim=3|id=819|\"S=1,Site,n=50\") \n",
       "[51] IndexSet{4} (dim=5|id=378|\"Link,l=50\") (dim=5|id=631|\"Link,l=51\") (dim=3|id=318|\"S=1,Site,n=51\")' (dim=3|id=318|\"S=1,Site,n=51\") \n",
       "[52] IndexSet{4} (dim=5|id=631|\"Link,l=51\") (dim=5|id=830|\"Link,l=52\") (dim=3|id=646|\"S=1,Site,n=52\")' (dim=3|id=646|\"S=1,Site,n=52\") \n",
       "[53] IndexSet{4} (dim=5|id=830|\"Link,l=52\") (dim=5|id=898|\"Link,l=53\") (dim=3|id=55|\"S=1,Site,n=53\")' (dim=3|id=55|\"S=1,Site,n=53\") \n",
       "[54] IndexSet{4} (dim=5|id=898|\"Link,l=53\") (dim=5|id=53|\"Link,l=54\") (dim=3|id=137|\"S=1,Site,n=54\")' (dim=3|id=137|\"S=1,Site,n=54\") \n",
       "[55] IndexSet{4} (dim=5|id=53|\"Link,l=54\") (dim=5|id=552|\"Link,l=55\") (dim=3|id=293|\"S=1,Site,n=55\")' (dim=3|id=293|\"S=1,Site,n=55\") \n",
       "[56] IndexSet{4} (dim=5|id=552|\"Link,l=55\") (dim=5|id=314|\"Link,l=56\") (dim=3|id=956|\"S=1,Site,n=56\")' (dim=3|id=956|\"S=1,Site,n=56\") \n",
       "[57] IndexSet{4} (dim=5|id=314|\"Link,l=56\") (dim=5|id=618|\"Link,l=57\") (dim=3|id=577|\"S=1,Site,n=57\")' (dim=3|id=577|\"S=1,Site,n=57\") \n",
       "[58] IndexSet{4} (dim=5|id=618|\"Link,l=57\") (dim=5|id=657|\"Link,l=58\") (dim=3|id=682|\"S=1,Site,n=58\")' (dim=3|id=682|\"S=1,Site,n=58\") \n",
       "[59] IndexSet{4} (dim=5|id=657|\"Link,l=58\") (dim=5|id=594|\"Link,l=59\") (dim=3|id=601|\"S=1,Site,n=59\")' (dim=3|id=601|\"S=1,Site,n=59\") \n",
       "[60] IndexSet{4} (dim=5|id=594|\"Link,l=59\") (dim=5|id=257|\"Link,l=60\") (dim=3|id=418|\"S=1,Site,n=60\")' (dim=3|id=418|\"S=1,Site,n=60\") \n",
       "[61] IndexSet{4} (dim=5|id=257|\"Link,l=60\") (dim=5|id=45|\"Link,l=61\") (dim=3|id=554|\"S=1,Site,n=61\")' (dim=3|id=554|\"S=1,Site,n=61\") \n",
       "[62] IndexSet{4} (dim=5|id=45|\"Link,l=61\") (dim=5|id=621|\"Link,l=62\") (dim=3|id=55|\"S=1,Site,n=62\")' (dim=3|id=55|\"S=1,Site,n=62\") \n",
       "[63] IndexSet{4} (dim=5|id=621|\"Link,l=62\") (dim=5|id=894|\"Link,l=63\") (dim=3|id=774|\"S=1,Site,n=63\")' (dim=3|id=774|\"S=1,Site,n=63\") \n",
       "[64] IndexSet{4} (dim=5|id=894|\"Link,l=63\") (dim=5|id=189|\"Link,l=64\") (dim=3|id=51|\"S=1,Site,n=64\")' (dim=3|id=51|\"S=1,Site,n=64\") \n",
       "[65] IndexSet{4} (dim=5|id=189|\"Link,l=64\") (dim=5|id=566|\"Link,l=65\") (dim=3|id=343|\"S=1,Site,n=65\")' (dim=3|id=343|\"S=1,Site,n=65\") \n",
       "[66] IndexSet{4} (dim=5|id=566|\"Link,l=65\") (dim=5|id=119|\"Link,l=66\") (dim=3|id=917|\"S=1,Site,n=66\")' (dim=3|id=917|\"S=1,Site,n=66\") \n",
       "[67] IndexSet{4} (dim=5|id=119|\"Link,l=66\") (dim=5|id=525|\"Link,l=67\") (dim=3|id=626|\"S=1,Site,n=67\")' (dim=3|id=626|\"S=1,Site,n=67\") \n",
       "[68] IndexSet{4} (dim=5|id=525|\"Link,l=67\") (dim=5|id=164|\"Link,l=68\") (dim=3|id=939|\"S=1,Site,n=68\")' (dim=3|id=939|\"S=1,Site,n=68\") \n",
       "[69] IndexSet{4} (dim=5|id=164|\"Link,l=68\") (dim=5|id=365|\"Link,l=69\") (dim=3|id=550|\"S=1,Site,n=69\")' (dim=3|id=550|\"S=1,Site,n=69\") \n",
       "[70] IndexSet{4} (dim=5|id=365|\"Link,l=69\") (dim=5|id=836|\"Link,l=70\") (dim=3|id=505|\"S=1,Site,n=70\")' (dim=3|id=505|\"S=1,Site,n=70\") \n",
       "[71] IndexSet{4} (dim=5|id=836|\"Link,l=70\") (dim=5|id=875|\"Link,l=71\") (dim=3|id=825|\"S=1,Site,n=71\")' (dim=3|id=825|\"S=1,Site,n=71\") \n",
       "[72] IndexSet{4} (dim=5|id=875|\"Link,l=71\") (dim=5|id=331|\"Link,l=72\") (dim=3|id=718|\"S=1,Site,n=72\")' (dim=3|id=718|\"S=1,Site,n=72\") \n",
       "[73] IndexSet{4} (dim=5|id=331|\"Link,l=72\") (dim=5|id=753|\"Link,l=73\") (dim=3|id=173|\"S=1,Site,n=73\")' (dim=3|id=173|\"S=1,Site,n=73\") \n",
       "[74] IndexSet{4} (dim=5|id=753|\"Link,l=73\") (dim=5|id=287|\"Link,l=74\") (dim=3|id=528|\"S=1,Site,n=74\")' (dim=3|id=528|\"S=1,Site,n=74\") \n",
       "[75] IndexSet{4} (dim=5|id=287|\"Link,l=74\") (dim=5|id=813|\"Link,l=75\") (dim=3|id=356|\"S=1,Site,n=75\")' (dim=3|id=356|\"S=1,Site,n=75\") \n",
       "[76] IndexSet{4} (dim=5|id=813|\"Link,l=75\") (dim=5|id=240|\"Link,l=76\") (dim=3|id=981|\"S=1,Site,n=76\")' (dim=3|id=981|\"S=1,Site,n=76\") \n",
       "[77] IndexSet{4} (dim=5|id=240|\"Link,l=76\") (dim=5|id=911|\"Link,l=77\") (dim=3|id=307|\"S=1,Site,n=77\")' (dim=3|id=307|\"S=1,Site,n=77\") \n",
       "[78] IndexSet{4} (dim=5|id=911|\"Link,l=77\") (dim=5|id=61|\"Link,l=78\") (dim=3|id=454|\"S=1,Site,n=78\")' (dim=3|id=454|\"S=1,Site,n=78\") \n",
       "[79] IndexSet{4} (dim=5|id=61|\"Link,l=78\") (dim=5|id=908|\"Link,l=79\") (dim=3|id=619|\"S=1,Site,n=79\")' (dim=3|id=619|\"S=1,Site,n=79\") \n",
       "[80] IndexSet{4} (dim=5|id=908|\"Link,l=79\") (dim=5|id=276|\"Link,l=80\") (dim=3|id=407|\"S=1,Site,n=80\")' (dim=3|id=407|\"S=1,Site,n=80\") \n",
       "[81] IndexSet{4} (dim=5|id=276|\"Link,l=80\") (dim=5|id=128|\"Link,l=81\") (dim=3|id=670|\"S=1,Site,n=81\")' (dim=3|id=670|\"S=1,Site,n=81\") \n",
       "[82] IndexSet{4} (dim=5|id=128|\"Link,l=81\") (dim=5|id=479|\"Link,l=82\") (dim=3|id=29|\"S=1,Site,n=82\")' (dim=3|id=29|\"S=1,Site,n=82\") \n",
       "[83] IndexSet{4} (dim=5|id=479|\"Link,l=82\") (dim=5|id=10|\"Link,l=83\") (dim=3|id=92|\"S=1,Site,n=83\")' (dim=3|id=92|\"S=1,Site,n=83\") \n",
       "[84] IndexSet{4} (dim=5|id=10|\"Link,l=83\") (dim=5|id=241|\"Link,l=84\") (dim=3|id=364|\"S=1,Site,n=84\")' (dim=3|id=364|\"S=1,Site,n=84\") \n",
       "[85] IndexSet{4} (dim=5|id=241|\"Link,l=84\") (dim=5|id=615|\"Link,l=85\") (dim=3|id=434|\"S=1,Site,n=85\")' (dim=3|id=434|\"S=1,Site,n=85\") \n",
       "[86] IndexSet{4} (dim=5|id=615|\"Link,l=85\") (dim=5|id=416|\"Link,l=86\") (dim=3|id=588|\"S=1,Site,n=86\")' (dim=3|id=588|\"S=1,Site,n=86\") \n",
       "[87] IndexSet{4} (dim=5|id=416|\"Link,l=86\") (dim=5|id=654|\"Link,l=87\") (dim=3|id=637|\"S=1,Site,n=87\")' (dim=3|id=637|\"S=1,Site,n=87\") \n",
       "[88] IndexSet{4} (dim=5|id=654|\"Link,l=87\") (dim=5|id=58|\"Link,l=88\") (dim=3|id=970|\"S=1,Site,n=88\")' (dim=3|id=970|\"S=1,Site,n=88\") \n",
       "[89] IndexSet{4} (dim=5|id=58|\"Link,l=88\") (dim=5|id=493|\"Link,l=89\") (dim=3|id=508|\"S=1,Site,n=89\")' (dim=3|id=508|\"S=1,Site,n=89\") \n",
       "[90] IndexSet{4} (dim=5|id=493|\"Link,l=89\") (dim=5|id=711|\"Link,l=90\") (dim=3|id=888|\"S=1,Site,n=90\")' (dim=3|id=888|\"S=1,Site,n=90\") \n",
       "[91] IndexSet{4} (dim=5|id=711|\"Link,l=90\") (dim=5|id=154|\"Link,l=91\") (dim=3|id=878|\"S=1,Site,n=91\")' (dim=3|id=878|\"S=1,Site,n=91\") \n",
       "[92] IndexSet{4} (dim=5|id=154|\"Link,l=91\") (dim=5|id=300|\"Link,l=92\") (dim=3|id=671|\"S=1,Site,n=92\")' (dim=3|id=671|\"S=1,Site,n=92\") \n",
       "[93] IndexSet{4} (dim=5|id=300|\"Link,l=92\") (dim=5|id=647|\"Link,l=93\") (dim=3|id=303|\"S=1,Site,n=93\")' (dim=3|id=303|\"S=1,Site,n=93\") \n",
       "[94] IndexSet{4} (dim=5|id=647|\"Link,l=93\") (dim=5|id=205|\"Link,l=94\") (dim=3|id=940|\"S=1,Site,n=94\")' (dim=3|id=940|\"S=1,Site,n=94\") \n",
       "[95] IndexSet{4} (dim=5|id=205|\"Link,l=94\") (dim=5|id=108|\"Link,l=95\") (dim=3|id=141|\"S=1,Site,n=95\")' (dim=3|id=141|\"S=1,Site,n=95\") \n",
       "[96] IndexSet{4} (dim=5|id=108|\"Link,l=95\") (dim=5|id=442|\"Link,l=96\") (dim=3|id=185|\"S=1,Site,n=96\")' (dim=3|id=185|\"S=1,Site,n=96\") \n",
       "[97] IndexSet{4} (dim=5|id=442|\"Link,l=96\") (dim=5|id=2|\"Link,l=97\") (dim=3|id=972|\"S=1,Site,n=97\")' (dim=3|id=972|\"S=1,Site,n=97\") \n",
       "[98] IndexSet{4} (dim=5|id=2|\"Link,l=97\") (dim=5|id=859|\"Link,l=98\") (dim=3|id=792|\"S=1,Site,n=98\")' (dim=3|id=792|\"S=1,Site,n=98\") \n",
       "[99] IndexSet{4} (dim=5|id=859|\"Link,l=98\") (dim=5|id=771|\"Link,l=99\") (dim=3|id=299|\"S=1,Site,n=99\")' (dim=3|id=299|\"S=1,Site,n=99\") \n",
       "[100] IndexSet{3} (dim=5|id=771|\"Link,l=99\") (dim=3|id=373|\"S=1,Site,n=100\")' (dim=3|id=373|\"S=1,Site,n=100\") \n"
      ]
     },
     "execution_count": 13,
     "metadata": {},
     "output_type": "execute_result"
    }
   ],
   "source": [
    "ampo = AutoMPO()\n",
    "for j=1:N-1\n",
    "  ampo += 0.5,\"S+\",j,\"S-\",j+1\n",
    "  ampo += 0.5,\"S-\",j,\"S+\",j+1\n",
    "  ampo += \"Sz\",j,\"Sz\",j+1\n",
    "end\n",
    "H = MPO(ampo,sites)"
   ]
  },
  {
   "cell_type": "code",
   "execution_count": 12,
   "id": "5aee6551-0232-4deb-87e4-0b042545b4b1",
   "metadata": {},
   "outputs": [
    {
     "data": {
      "text/plain": [
       "AutoMPO:\n"
      ]
     },
     "execution_count": 12,
     "metadata": {},
     "output_type": "execute_result"
    }
   ],
   "source": [
    "AutoMPO()"
   ]
  },
  {
   "cell_type": "code",
   "execution_count": 22,
   "id": "ec05699b-1ace-44a0-8239-33681ade928a",
   "metadata": {},
   "outputs": [
    {
     "name": "stdout",
     "output_type": "stream",
     "text": [
      "6.283185307179586"
     ]
    }
   ],
   "source": [
    "print(2*π)"
   ]
  },
  {
   "cell_type": "code",
   "execution_count": 24,
   "id": "5fd51745-9aea-4b7f-adbd-a74d8428ea6b",
   "metadata": {},
   "outputs": [
    {
     "data": {
      "text/plain": [
       "1234"
      ]
     },
     "execution_count": 24,
     "metadata": {},
     "output_type": "execute_result"
    }
   ],
   "source": [
    "⛄=1234"
   ]
  },
  {
   "cell_type": "code",
   "execution_count": 25,
   "id": "3998d5e0-3501-480f-a05f-558e1d18aa61",
   "metadata": {},
   "outputs": [
    {
     "data": {
      "text/plain": [
       "MPO\n",
       "[1] IndexSet{3} (dim=5|id=497|\"Link,l=1\") (dim=3|id=781|\"S=1,Site,n=1\")' (dim=3|id=781|\"S=1,Site,n=1\") \n",
       "[2] IndexSet{4} (dim=5|id=497|\"Link,l=1\") (dim=5|id=790|\"Link,l=2\") (dim=3|id=549|\"S=1,Site,n=2\")' (dim=3|id=549|\"S=1,Site,n=2\") \n",
       "[3] IndexSet{4} (dim=5|id=790|\"Link,l=2\") (dim=5|id=526|\"Link,l=3\") (dim=3|id=565|\"S=1,Site,n=3\")' (dim=3|id=565|\"S=1,Site,n=3\") \n",
       "[4] IndexSet{4} (dim=5|id=526|\"Link,l=3\") (dim=5|id=169|\"Link,l=4\") (dim=3|id=725|\"S=1,Site,n=4\")' (dim=3|id=725|\"S=1,Site,n=4\") \n",
       "[5] IndexSet{4} (dim=5|id=169|\"Link,l=4\") (dim=5|id=325|\"Link,l=5\") (dim=3|id=699|\"S=1,Site,n=5\")' (dim=3|id=699|\"S=1,Site,n=5\") \n",
       "[6] IndexSet{4} (dim=5|id=325|\"Link,l=5\") (dim=5|id=160|\"Link,l=6\") (dim=3|id=864|\"S=1,Site,n=6\")' (dim=3|id=864|\"S=1,Site,n=6\") \n",
       "[7] IndexSet{4} (dim=5|id=160|\"Link,l=6\") (dim=5|id=583|\"Link,l=7\") (dim=3|id=470|\"S=1,Site,n=7\")' (dim=3|id=470|\"S=1,Site,n=7\") \n",
       "[8] IndexSet{4} (dim=5|id=583|\"Link,l=7\") (dim=5|id=873|\"Link,l=8\") (dim=3|id=954|\"S=1,Site,n=8\")' (dim=3|id=954|\"S=1,Site,n=8\") \n",
       "[9] IndexSet{4} (dim=5|id=873|\"Link,l=8\") (dim=5|id=842|\"Link,l=9\") (dim=3|id=134|\"S=1,Site,n=9\")' (dim=3|id=134|\"S=1,Site,n=9\") \n",
       "[10] IndexSet{4} (dim=5|id=842|\"Link,l=9\") (dim=5|id=527|\"Link,l=10\") (dim=3|id=661|\"S=1,Site,n=10\")' (dim=3|id=661|\"S=1,Site,n=10\") \n",
       "[11] IndexSet{4} (dim=5|id=527|\"Link,l=10\") (dim=5|id=905|\"Link,l=11\") (dim=3|id=605|\"S=1,Site,n=11\")' (dim=3|id=605|\"S=1,Site,n=11\") \n",
       "[12] IndexSet{4} (dim=5|id=905|\"Link,l=11\") (dim=5|id=717|\"Link,l=12\") (dim=3|id=46|\"S=1,Site,n=12\")' (dim=3|id=46|\"S=1,Site,n=12\") \n",
       "[13] IndexSet{4} (dim=5|id=717|\"Link,l=12\") (dim=5|id=282|\"Link,l=13\") (dim=3|id=973|\"S=1,Site,n=13\")' (dim=3|id=973|\"S=1,Site,n=13\") \n",
       "[14] IndexSet{4} (dim=5|id=282|\"Link,l=13\") (dim=5|id=424|\"Link,l=14\") (dim=3|id=585|\"S=1,Site,n=14\")' (dim=3|id=585|\"S=1,Site,n=14\") \n",
       "[15] IndexSet{4} (dim=5|id=424|\"Link,l=14\") (dim=5|id=213|\"Link,l=15\") (dim=3|id=307|\"S=1,Site,n=15\")' (dim=3|id=307|\"S=1,Site,n=15\") \n",
       "[16] IndexSet{4} (dim=5|id=213|\"Link,l=15\") (dim=5|id=633|\"Link,l=16\") (dim=3|id=942|\"S=1,Site,n=16\")' (dim=3|id=942|\"S=1,Site,n=16\") \n",
       "[17] IndexSet{4} (dim=5|id=633|\"Link,l=16\") (dim=5|id=899|\"Link,l=17\") (dim=3|id=286|\"S=1,Site,n=17\")' (dim=3|id=286|\"S=1,Site,n=17\") \n",
       "[18] IndexSet{4} (dim=5|id=899|\"Link,l=17\") (dim=5|id=211|\"Link,l=18\") (dim=3|id=747|\"S=1,Site,n=18\")' (dim=3|id=747|\"S=1,Site,n=18\") \n",
       "[19] IndexSet{4} (dim=5|id=211|\"Link,l=18\") (dim=5|id=717|\"Link,l=19\") (dim=3|id=421|\"S=1,Site,n=19\")' (dim=3|id=421|\"S=1,Site,n=19\") \n",
       "[20] IndexSet{4} (dim=5|id=717|\"Link,l=19\") (dim=5|id=11|\"Link,l=20\") (dim=3|id=152|\"S=1,Site,n=20\")' (dim=3|id=152|\"S=1,Site,n=20\") \n",
       "[21] IndexSet{4} (dim=5|id=11|\"Link,l=20\") (dim=5|id=617|\"Link,l=21\") (dim=3|id=47|\"S=1,Site,n=21\")' (dim=3|id=47|\"S=1,Site,n=21\") \n",
       "[22] IndexSet{4} (dim=5|id=617|\"Link,l=21\") (dim=5|id=324|\"Link,l=22\") (dim=3|id=804|\"S=1,Site,n=22\")' (dim=3|id=804|\"S=1,Site,n=22\") \n",
       "[23] IndexSet{4} (dim=5|id=324|\"Link,l=22\") (dim=5|id=975|\"Link,l=23\") (dim=3|id=323|\"S=1,Site,n=23\")' (dim=3|id=323|\"S=1,Site,n=23\") \n",
       "[24] IndexSet{4} (dim=5|id=975|\"Link,l=23\") (dim=5|id=579|\"Link,l=24\") (dim=3|id=473|\"S=1,Site,n=24\")' (dim=3|id=473|\"S=1,Site,n=24\") \n",
       "[25] IndexSet{4} (dim=5|id=579|\"Link,l=24\") (dim=5|id=813|\"Link,l=25\") (dim=3|id=11|\"S=1,Site,n=25\")' (dim=3|id=11|\"S=1,Site,n=25\") \n",
       "[26] IndexSet{4} (dim=5|id=813|\"Link,l=25\") (dim=5|id=755|\"Link,l=26\") (dim=3|id=68|\"S=1,Site,n=26\")' (dim=3|id=68|\"S=1,Site,n=26\") \n",
       "[27] IndexSet{4} (dim=5|id=755|\"Link,l=26\") (dim=5|id=748|\"Link,l=27\") (dim=3|id=743|\"S=1,Site,n=27\")' (dim=3|id=743|\"S=1,Site,n=27\") \n",
       "[28] IndexSet{4} (dim=5|id=748|\"Link,l=27\") (dim=5|id=696|\"Link,l=28\") (dim=3|id=817|\"S=1,Site,n=28\")' (dim=3|id=817|\"S=1,Site,n=28\") \n",
       "[29] IndexSet{4} (dim=5|id=696|\"Link,l=28\") (dim=5|id=288|\"Link,l=29\") (dim=3|id=208|\"S=1,Site,n=29\")' (dim=3|id=208|\"S=1,Site,n=29\") \n",
       "[30] IndexSet{4} (dim=5|id=288|\"Link,l=29\") (dim=5|id=297|\"Link,l=30\") (dim=3|id=875|\"S=1,Site,n=30\")' (dim=3|id=875|\"S=1,Site,n=30\") \n",
       "[31] IndexSet{4} (dim=5|id=297|\"Link,l=30\") (dim=5|id=812|\"Link,l=31\") (dim=3|id=442|\"S=1,Site,n=31\")' (dim=3|id=442|\"S=1,Site,n=31\") \n",
       "[32] IndexSet{4} (dim=5|id=812|\"Link,l=31\") (dim=5|id=531|\"Link,l=32\") (dim=3|id=432|\"S=1,Site,n=32\")' (dim=3|id=432|\"S=1,Site,n=32\") \n",
       "[33] IndexSet{4} (dim=5|id=531|\"Link,l=32\") (dim=5|id=76|\"Link,l=33\") (dim=3|id=399|\"S=1,Site,n=33\")' (dim=3|id=399|\"S=1,Site,n=33\") \n",
       "[34] IndexSet{4} (dim=5|id=76|\"Link,l=33\") (dim=5|id=355|\"Link,l=34\") (dim=3|id=278|\"S=1,Site,n=34\")' (dim=3|id=278|\"S=1,Site,n=34\") \n",
       "[35] IndexSet{4} (dim=5|id=355|\"Link,l=34\") (dim=5|id=913|\"Link,l=35\") (dim=3|id=882|\"S=1,Site,n=35\")' (dim=3|id=882|\"S=1,Site,n=35\") \n",
       "[36] IndexSet{4} (dim=5|id=913|\"Link,l=35\") (dim=5|id=153|\"Link,l=36\") (dim=3|id=783|\"S=1,Site,n=36\")' (dim=3|id=783|\"S=1,Site,n=36\") \n",
       "[37] IndexSet{4} (dim=5|id=153|\"Link,l=36\") (dim=5|id=622|\"Link,l=37\") (dim=3|id=509|\"S=1,Site,n=37\")' (dim=3|id=509|\"S=1,Site,n=37\") \n",
       "[38] IndexSet{4} (dim=5|id=622|\"Link,l=37\") (dim=5|id=325|\"Link,l=38\") (dim=3|id=903|\"S=1,Site,n=38\")' (dim=3|id=903|\"S=1,Site,n=38\") \n",
       "[39] IndexSet{4} (dim=5|id=325|\"Link,l=38\") (dim=5|id=379|\"Link,l=39\") (dim=3|id=422|\"S=1,Site,n=39\")' (dim=3|id=422|\"S=1,Site,n=39\") \n",
       "[40] IndexSet{4} (dim=5|id=379|\"Link,l=39\") (dim=5|id=786|\"Link,l=40\") (dim=3|id=22|\"S=1,Site,n=40\")' (dim=3|id=22|\"S=1,Site,n=40\") \n",
       "[41] IndexSet{4} (dim=5|id=786|\"Link,l=40\") (dim=5|id=649|\"Link,l=41\") (dim=3|id=531|\"S=1,Site,n=41\")' (dim=3|id=531|\"S=1,Site,n=41\") \n",
       "[42] IndexSet{4} (dim=5|id=649|\"Link,l=41\") (dim=5|id=857|\"Link,l=42\") (dim=3|id=662|\"S=1,Site,n=42\")' (dim=3|id=662|\"S=1,Site,n=42\") \n",
       "[43] IndexSet{4} (dim=5|id=857|\"Link,l=42\") (dim=5|id=806|\"Link,l=43\") (dim=3|id=114|\"S=1,Site,n=43\")' (dim=3|id=114|\"S=1,Site,n=43\") \n",
       "[44] IndexSet{4} (dim=5|id=806|\"Link,l=43\") (dim=5|id=981|\"Link,l=44\") (dim=3|id=77|\"S=1,Site,n=44\")' (dim=3|id=77|\"S=1,Site,n=44\") \n",
       "[45] IndexSet{4} (dim=5|id=981|\"Link,l=44\") (dim=5|id=659|\"Link,l=45\") (dim=3|id=263|\"S=1,Site,n=45\")' (dim=3|id=263|\"S=1,Site,n=45\") \n",
       "[46] IndexSet{4} (dim=5|id=659|\"Link,l=45\") (dim=5|id=631|\"Link,l=46\") (dim=3|id=384|\"S=1,Site,n=46\")' (dim=3|id=384|\"S=1,Site,n=46\") \n",
       "[47] IndexSet{4} (dim=5|id=631|\"Link,l=46\") (dim=5|id=714|\"Link,l=47\") (dim=3|id=833|\"S=1,Site,n=47\")' (dim=3|id=833|\"S=1,Site,n=47\") \n",
       "[48] IndexSet{4} (dim=5|id=714|\"Link,l=47\") (dim=5|id=520|\"Link,l=48\") (dim=3|id=547|\"S=1,Site,n=48\")' (dim=3|id=547|\"S=1,Site,n=48\") \n",
       "[49] IndexSet{4} (dim=5|id=520|\"Link,l=48\") (dim=5|id=309|\"Link,l=49\") (dim=3|id=623|\"S=1,Site,n=49\")' (dim=3|id=623|\"S=1,Site,n=49\") \n",
       "[50] IndexSet{4} (dim=5|id=309|\"Link,l=49\") (dim=5|id=429|\"Link,l=50\") (dim=3|id=819|\"S=1,Site,n=50\")' (dim=3|id=819|\"S=1,Site,n=50\") \n",
       "[51] IndexSet{4} (dim=5|id=429|\"Link,l=50\") (dim=5|id=166|\"Link,l=51\") (dim=3|id=318|\"S=1,Site,n=51\")' (dim=3|id=318|\"S=1,Site,n=51\") \n",
       "[52] IndexSet{4} (dim=5|id=166|\"Link,l=51\") (dim=5|id=747|\"Link,l=52\") (dim=3|id=646|\"S=1,Site,n=52\")' (dim=3|id=646|\"S=1,Site,n=52\") \n",
       "[53] IndexSet{4} (dim=5|id=747|\"Link,l=52\") (dim=5|id=662|\"Link,l=53\") (dim=3|id=55|\"S=1,Site,n=53\")' (dim=3|id=55|\"S=1,Site,n=53\") \n",
       "[54] IndexSet{4} (dim=5|id=662|\"Link,l=53\") (dim=5|id=346|\"Link,l=54\") (dim=3|id=137|\"S=1,Site,n=54\")' (dim=3|id=137|\"S=1,Site,n=54\") \n",
       "[55] IndexSet{4} (dim=5|id=346|\"Link,l=54\") (dim=5|id=556|\"Link,l=55\") (dim=3|id=293|\"S=1,Site,n=55\")' (dim=3|id=293|\"S=1,Site,n=55\") \n",
       "[56] IndexSet{4} (dim=5|id=556|\"Link,l=55\") (dim=5|id=873|\"Link,l=56\") (dim=3|id=956|\"S=1,Site,n=56\")' (dim=3|id=956|\"S=1,Site,n=56\") \n",
       "[57] IndexSet{4} (dim=5|id=873|\"Link,l=56\") (dim=5|id=749|\"Link,l=57\") (dim=3|id=577|\"S=1,Site,n=57\")' (dim=3|id=577|\"S=1,Site,n=57\") \n",
       "[58] IndexSet{4} (dim=5|id=749|\"Link,l=57\") (dim=5|id=265|\"Link,l=58\") (dim=3|id=682|\"S=1,Site,n=58\")' (dim=3|id=682|\"S=1,Site,n=58\") \n",
       "[59] IndexSet{4} (dim=5|id=265|\"Link,l=58\") (dim=5|id=401|\"Link,l=59\") (dim=3|id=601|\"S=1,Site,n=59\")' (dim=3|id=601|\"S=1,Site,n=59\") \n",
       "[60] IndexSet{4} (dim=5|id=401|\"Link,l=59\") (dim=5|id=516|\"Link,l=60\") (dim=3|id=418|\"S=1,Site,n=60\")' (dim=3|id=418|\"S=1,Site,n=60\") \n",
       "[61] IndexSet{4} (dim=5|id=516|\"Link,l=60\") (dim=5|id=739|\"Link,l=61\") (dim=3|id=554|\"S=1,Site,n=61\")' (dim=3|id=554|\"S=1,Site,n=61\") \n",
       "[62] IndexSet{4} (dim=5|id=739|\"Link,l=61\") (dim=5|id=995|\"Link,l=62\") (dim=3|id=55|\"S=1,Site,n=62\")' (dim=3|id=55|\"S=1,Site,n=62\") \n",
       "[63] IndexSet{4} (dim=5|id=995|\"Link,l=62\") (dim=5|id=327|\"Link,l=63\") (dim=3|id=774|\"S=1,Site,n=63\")' (dim=3|id=774|\"S=1,Site,n=63\") \n",
       "[64] IndexSet{4} (dim=5|id=327|\"Link,l=63\") (dim=5|id=204|\"Link,l=64\") (dim=3|id=51|\"S=1,Site,n=64\")' (dim=3|id=51|\"S=1,Site,n=64\") \n",
       "[65] IndexSet{4} (dim=5|id=204|\"Link,l=64\") (dim=5|id=387|\"Link,l=65\") (dim=3|id=343|\"S=1,Site,n=65\")' (dim=3|id=343|\"S=1,Site,n=65\") \n",
       "[66] IndexSet{4} (dim=5|id=387|\"Link,l=65\") (dim=5|id=227|\"Link,l=66\") (dim=3|id=917|\"S=1,Site,n=66\")' (dim=3|id=917|\"S=1,Site,n=66\") \n",
       "[67] IndexSet{4} (dim=5|id=227|\"Link,l=66\") (dim=5|id=443|\"Link,l=67\") (dim=3|id=626|\"S=1,Site,n=67\")' (dim=3|id=626|\"S=1,Site,n=67\") \n",
       "[68] IndexSet{4} (dim=5|id=443|\"Link,l=67\") (dim=5|id=964|\"Link,l=68\") (dim=3|id=939|\"S=1,Site,n=68\")' (dim=3|id=939|\"S=1,Site,n=68\") \n",
       "[69] IndexSet{4} (dim=5|id=964|\"Link,l=68\") (dim=5|id=91|\"Link,l=69\") (dim=3|id=550|\"S=1,Site,n=69\")' (dim=3|id=550|\"S=1,Site,n=69\") \n",
       "[70] IndexSet{4} (dim=5|id=91|\"Link,l=69\") (dim=5|id=265|\"Link,l=70\") (dim=3|id=505|\"S=1,Site,n=70\")' (dim=3|id=505|\"S=1,Site,n=70\") \n",
       "[71] IndexSet{4} (dim=5|id=265|\"Link,l=70\") (dim=5|id=546|\"Link,l=71\") (dim=3|id=825|\"S=1,Site,n=71\")' (dim=3|id=825|\"S=1,Site,n=71\") \n",
       "[72] IndexSet{4} (dim=5|id=546|\"Link,l=71\") (dim=5|id=382|\"Link,l=72\") (dim=3|id=718|\"S=1,Site,n=72\")' (dim=3|id=718|\"S=1,Site,n=72\") \n",
       "[73] IndexSet{4} (dim=5|id=382|\"Link,l=72\") (dim=5|id=772|\"Link,l=73\") (dim=3|id=173|\"S=1,Site,n=73\")' (dim=3|id=173|\"S=1,Site,n=73\") \n",
       "[74] IndexSet{4} (dim=5|id=772|\"Link,l=73\") (dim=5|id=573|\"Link,l=74\") (dim=3|id=528|\"S=1,Site,n=74\")' (dim=3|id=528|\"S=1,Site,n=74\") \n",
       "[75] IndexSet{4} (dim=5|id=573|\"Link,l=74\") (dim=5|id=720|\"Link,l=75\") (dim=3|id=356|\"S=1,Site,n=75\")' (dim=3|id=356|\"S=1,Site,n=75\") \n",
       "[76] IndexSet{4} (dim=5|id=720|\"Link,l=75\") (dim=5|id=162|\"Link,l=76\") (dim=3|id=981|\"S=1,Site,n=76\")' (dim=3|id=981|\"S=1,Site,n=76\") \n",
       "[77] IndexSet{4} (dim=5|id=162|\"Link,l=76\") (dim=5|id=895|\"Link,l=77\") (dim=3|id=307|\"S=1,Site,n=77\")' (dim=3|id=307|\"S=1,Site,n=77\") \n",
       "[78] IndexSet{4} (dim=5|id=895|\"Link,l=77\") (dim=5|id=671|\"Link,l=78\") (dim=3|id=454|\"S=1,Site,n=78\")' (dim=3|id=454|\"S=1,Site,n=78\") \n",
       "[79] IndexSet{4} (dim=5|id=671|\"Link,l=78\") (dim=5|id=539|\"Link,l=79\") (dim=3|id=619|\"S=1,Site,n=79\")' (dim=3|id=619|\"S=1,Site,n=79\") \n",
       "[80] IndexSet{4} (dim=5|id=539|\"Link,l=79\") (dim=5|id=281|\"Link,l=80\") (dim=3|id=407|\"S=1,Site,n=80\")' (dim=3|id=407|\"S=1,Site,n=80\") \n",
       "[81] IndexSet{4} (dim=5|id=281|\"Link,l=80\") (dim=5|id=337|\"Link,l=81\") (dim=3|id=670|\"S=1,Site,n=81\")' (dim=3|id=670|\"S=1,Site,n=81\") \n",
       "[82] IndexSet{4} (dim=5|id=337|\"Link,l=81\") (dim=5|id=447|\"Link,l=82\") (dim=3|id=29|\"S=1,Site,n=82\")' (dim=3|id=29|\"S=1,Site,n=82\") \n",
       "[83] IndexSet{4} (dim=5|id=447|\"Link,l=82\") (dim=5|id=417|\"Link,l=83\") (dim=3|id=92|\"S=1,Site,n=83\")' (dim=3|id=92|\"S=1,Site,n=83\") \n",
       "[84] IndexSet{4} (dim=5|id=417|\"Link,l=83\") (dim=5|id=234|\"Link,l=84\") (dim=3|id=364|\"S=1,Site,n=84\")' (dim=3|id=364|\"S=1,Site,n=84\") \n",
       "[85] IndexSet{4} (dim=5|id=234|\"Link,l=84\") (dim=5|id=902|\"Link,l=85\") (dim=3|id=434|\"S=1,Site,n=85\")' (dim=3|id=434|\"S=1,Site,n=85\") \n",
       "[86] IndexSet{4} (dim=5|id=902|\"Link,l=85\") (dim=5|id=399|\"Link,l=86\") (dim=3|id=588|\"S=1,Site,n=86\")' (dim=3|id=588|\"S=1,Site,n=86\") \n",
       "[87] IndexSet{4} (dim=5|id=399|\"Link,l=86\") (dim=5|id=58|\"Link,l=87\") (dim=3|id=637|\"S=1,Site,n=87\")' (dim=3|id=637|\"S=1,Site,n=87\") \n",
       "[88] IndexSet{4} (dim=5|id=58|\"Link,l=87\") (dim=5|id=872|\"Link,l=88\") (dim=3|id=970|\"S=1,Site,n=88\")' (dim=3|id=970|\"S=1,Site,n=88\") \n",
       "[89] IndexSet{4} (dim=5|id=872|\"Link,l=88\") (dim=5|id=743|\"Link,l=89\") (dim=3|id=508|\"S=1,Site,n=89\")' (dim=3|id=508|\"S=1,Site,n=89\") \n",
       "[90] IndexSet{4} (dim=5|id=743|\"Link,l=89\") (dim=5|id=971|\"Link,l=90\") (dim=3|id=888|\"S=1,Site,n=90\")' (dim=3|id=888|\"S=1,Site,n=90\") \n",
       "[91] IndexSet{4} (dim=5|id=971|\"Link,l=90\") (dim=5|id=959|\"Link,l=91\") (dim=3|id=878|\"S=1,Site,n=91\")' (dim=3|id=878|\"S=1,Site,n=91\") \n",
       "[92] IndexSet{4} (dim=5|id=959|\"Link,l=91\") (dim=5|id=871|\"Link,l=92\") (dim=3|id=671|\"S=1,Site,n=92\")' (dim=3|id=671|\"S=1,Site,n=92\") \n",
       "[93] IndexSet{4} (dim=5|id=871|\"Link,l=92\") (dim=5|id=324|\"Link,l=93\") (dim=3|id=303|\"S=1,Site,n=93\")' (dim=3|id=303|\"S=1,Site,n=93\") \n",
       "[94] IndexSet{4} (dim=5|id=324|\"Link,l=93\") (dim=5|id=739|\"Link,l=94\") (dim=3|id=940|\"S=1,Site,n=94\")' (dim=3|id=940|\"S=1,Site,n=94\") \n",
       "[95] IndexSet{4} (dim=5|id=739|\"Link,l=94\") (dim=5|id=418|\"Link,l=95\") (dim=3|id=141|\"S=1,Site,n=95\")' (dim=3|id=141|\"S=1,Site,n=95\") \n",
       "[96] IndexSet{4} (dim=5|id=418|\"Link,l=95\") (dim=5|id=379|\"Link,l=96\") (dim=3|id=185|\"S=1,Site,n=96\")' (dim=3|id=185|\"S=1,Site,n=96\") \n",
       "[97] IndexSet{4} (dim=5|id=379|\"Link,l=96\") (dim=5|id=280|\"Link,l=97\") (dim=3|id=972|\"S=1,Site,n=97\")' (dim=3|id=972|\"S=1,Site,n=97\") \n",
       "[98] IndexSet{4} (dim=5|id=280|\"Link,l=97\") (dim=5|id=297|\"Link,l=98\") (dim=3|id=792|\"S=1,Site,n=98\")' (dim=3|id=792|\"S=1,Site,n=98\") \n",
       "[99] IndexSet{4} (dim=5|id=297|\"Link,l=98\") (dim=5|id=983|\"Link,l=99\") (dim=3|id=299|\"S=1,Site,n=99\")' (dim=3|id=299|\"S=1,Site,n=99\") \n",
       "[100] IndexSet{3} (dim=5|id=983|\"Link,l=99\") (dim=3|id=373|\"S=1,Site,n=100\")' (dim=3|id=373|\"S=1,Site,n=100\") \n"
      ]
     },
     "execution_count": 25,
     "metadata": {},
     "output_type": "execute_result"
    }
   ],
   "source": [
    "🍆=MPO(ampo,sites)"
   ]
  },
  {
   "cell_type": "code",
   "execution_count": 36,
   "id": "49433990-a20f-4c8d-87fc-573373d4aa78",
   "metadata": {},
   "outputs": [
    {
     "data": {
      "text/plain": [
       "10-element Vector{Int64}:\n",
       "  1\n",
       "  2\n",
       "  3\n",
       "  4\n",
       "  5\n",
       "  6\n",
       "  7\n",
       "  8\n",
       "  9\n",
       " 10"
      ]
     },
     "execution_count": 36,
     "metadata": {},
     "output_type": "execute_result"
    }
   ],
   "source": [
    "b=[1:10;]"
   ]
  },
  {
   "cell_type": "code",
   "execution_count": 38,
   "id": "2e07838f-0e3a-4e27-a953-2b08484c56d5",
   "metadata": {},
   "outputs": [
    {
     "data": {
      "text/plain": [
       "10"
      ]
     },
     "execution_count": 38,
     "metadata": {},
     "output_type": "execute_result"
    }
   ],
   "source": [
    "b\n",
    "b[end]"
   ]
  },
  {
   "cell_type": "code",
   "execution_count": 37,
   "id": "13cc3fbf-7a71-44ef-9dae-d633e9671ed6",
   "metadata": {},
   "outputs": [
    {
     "data": {
      "text/plain": [
       "3-element Vector{Int64}:\n",
       " 1\n",
       " 2\n",
       " 3"
      ]
     },
     "execution_count": 37,
     "metadata": {},
     "output_type": "execute_result"
    }
   ],
   "source": [
    "b[1:3]"
   ]
  },
  {
   "cell_type": "code",
   "execution_count": 56,
   "id": "761b3926-31c8-4a4c-bf19-bd9b81ac4b72",
   "metadata": {},
   "outputs": [
    {
     "name": "stdout",
     "output_type": "stream",
     "text": [
      "sweeps = Sweeps\n",
      "1 cutoff=1.0E-10, maxdim=10, mindim=1, noise=0.0E+00\n",
      "2 cutoff=1.0E-10, maxdim=20, mindim=1, noise=0.0E+00\n",
      "3 cutoff=1.0E-10, maxdim=100, mindim=1, noise=0.0E+00\n",
      "4 cutoff=1.0E-10, maxdim=100, mindim=1, noise=0.0E+00\n",
      "5 cutoff=1.0E-10, maxdim=200, mindim=1, noise=0.0E+00\n",
      "\n",
      "After sweep 1 energy=-2.752936416690 maxlinkdim=4 time=0.179\n",
      "After sweep 2 energy=-14.637189392123 maxlinkdim=16 time=0.205\n",
      "After sweep 3 energy=-28.954097020334 maxlinkdim=64 time=1.317\n",
      "After sweep 4 energy=-36.135161969615 maxlinkdim=100 time=4.145\n",
      "After sweep 5 energy=-37.629468472043 maxlinkdim=200 time=16.368\n",
      "Final energy = -37.629468472043214\n",
      "MPS\n",
      "[1] IndexSet{2} (dim=2|id=56|\"Link,l=1\") (dim=2|id=562|\"Fermion,Site,n=1\") \n",
      "[2] IndexSet{3} (dim=4|id=528|\"Link,l=2\") (dim=2|id=74|\"Fermion,Site,n=2\") (dim=2|id=56|\"Link,l=1\") \n",
      "[3] IndexSet{3} (dim=8|id=299|\"Link,l=3\") (dim=2|id=297|\"Fermion,Site,n=3\") (dim=4|id=528|\"Link,l=2\") \n",
      "[4] IndexSet{3} (dim=16|id=683|\"Link,l=4\") (dim=2|id=782|\"Fermion,Site,n=4\") (dim=8|id=299|\"Link,l=3\") \n",
      "[5] IndexSet{3} (dim=32|id=426|\"Link,l=5\") (dim=2|id=893|\"Fermion,Site,n=5\") (dim=16|id=683|\"Link,l=4\") \n",
      "[6] IndexSet{3} (dim=64|id=394|\"Link,l=6\") (dim=2|id=774|\"Fermion,Site,n=6\") (dim=32|id=426|\"Link,l=5\") \n",
      "[7] IndexSet{3} (dim=128|id=368|\"Link,l=7\") (dim=2|id=279|\"Fermion,Site,n=7\") (dim=64|id=394|\"Link,l=6\") \n",
      "[8] IndexSet{3} (dim=200|id=129|\"Link,l=8\") (dim=2|id=472|\"Fermion,Site,n=8\") (dim=128|id=368|\"Link,l=7\") \n",
      "[9] IndexSet{3} (dim=200|id=280|\"Link,l=9\") (dim=2|id=896|\"Fermion,Site,n=9\") (dim=200|id=129|\"Link,l=8\") \n",
      "[10] IndexSet{3} (dim=200|id=181|\"Link,l=10\") (dim=2|id=117|\"Fermion,Site,n=10\") (dim=200|id=280|\"Link,l=9\") \n",
      "[11] IndexSet{3} (dim=200|id=223|\"Link,l=11\") (dim=2|id=172|\"Fermion,Site,n=11\") (dim=200|id=181|\"Link,l=10\") \n",
      "[12] IndexSet{3} (dim=200|id=95|\"Link,l=12\") (dim=2|id=596|\"Fermion,Site,n=12\") (dim=200|id=223|\"Link,l=11\") \n",
      "[13] IndexSet{3} (dim=200|id=69|\"Link,l=13\") (dim=2|id=567|\"Fermion,Site,n=13\") (dim=200|id=95|\"Link,l=12\") \n",
      "[14] IndexSet{3} (dim=200|id=41|\"Link,l=14\") (dim=2|id=984|\"Fermion,Site,n=14\") (dim=200|id=69|\"Link,l=13\") \n",
      "[15] IndexSet{3} (dim=200|id=142|\"Link,l=15\") (dim=2|id=318|\"Fermion,Site,n=15\") (dim=200|id=41|\"Link,l=14\") \n",
      "[16] IndexSet{3} (dim=200|id=347|\"Link,l=16\") (dim=2|id=915|\"Fermion,Site,n=16\") (dim=200|id=142|\"Link,l=15\") \n",
      "[17] IndexSet{3} (dim=200|id=676|\"Link,l=17\") (dim=2|id=858|\"Fermion,Site,n=17\") (dim=200|id=347|\"Link,l=16\") \n",
      "[18] IndexSet{3} (dim=200|id=379|\"Link,l=18\") (dim=2|id=485|\"Fermion,Site,n=18\") (dim=200|id=676|\"Link,l=17\") \n",
      "[19] IndexSet{3} (dim=200|id=118|\"Link,l=19\") (dim=2|id=766|\"Fermion,Site,n=19\") (dim=200|id=379|\"Link,l=18\") \n",
      "[20] IndexSet{3} (dim=200|id=408|\"Link,l=20\") (dim=2|id=367|\"Fermion,Site,n=20\") (dim=200|id=118|\"Link,l=19\") \n",
      "[21] IndexSet{3} (dim=200|id=324|\"Link,l=21\") (dim=2|id=345|\"Fermion,Site,n=21\") (dim=200|id=408|\"Link,l=20\") \n",
      "[22] IndexSet{3} (dim=200|id=444|\"Link,l=22\") (dim=2|id=241|\"Fermion,Site,n=22\") (dim=200|id=324|\"Link,l=21\") \n",
      "[23] IndexSet{3} (dim=200|id=914|\"Link,l=23\") (dim=2|id=883|\"Fermion,Site,n=23\") (dim=200|id=444|\"Link,l=22\") \n",
      "[24] IndexSet{3} (dim=200|id=775|\"Link,l=24\") (dim=2|id=149|\"Fermion,Site,n=24\") (dim=200|id=914|\"Link,l=23\") \n",
      "[25] IndexSet{3} (dim=200|id=739|\"Link,l=25\") (dim=2|id=757|\"Fermion,Site,n=25\") (dim=200|id=775|\"Link,l=24\") \n",
      "[26] IndexSet{3} (dim=200|id=368|\"Link,l=26\") (dim=2|id=522|\"Fermion,Site,n=26\") (dim=200|id=739|\"Link,l=25\") \n",
      "[27] IndexSet{3} (dim=200|id=828|\"Link,l=27\") (dim=2|id=403|\"Fermion,Site,n=27\") (dim=200|id=368|\"Link,l=26\") \n",
      "[28] IndexSet{3} (dim=200|id=821|\"Link,l=28\") (dim=2|id=454|\"Fermion,Site,n=28\") (dim=200|id=828|\"Link,l=27\") \n",
      "[29] IndexSet{3} (dim=200|id=556|\"Link,l=29\") (dim=2|id=54|\"Fermion,Site,n=29\") (dim=200|id=821|\"Link,l=28\") \n",
      "[30] IndexSet{3} (dim=200|id=862|\"Link,l=30\") (dim=2|id=134|\"Fermion,Site,n=30\") (dim=200|id=556|\"Link,l=29\") \n",
      "[31] IndexSet{3} (dim=200|id=919|\"Link,l=31\") (dim=2|id=184|\"Fermion,Site,n=31\") (dim=200|id=862|\"Link,l=30\") \n",
      "[32] IndexSet{3} (dim=200|id=696|\"Link,l=32\") (dim=2|id=40|\"Fermion,Site,n=32\") (dim=200|id=919|\"Link,l=31\") \n",
      "[33] IndexSet{3} (dim=200|id=658|\"Link,l=33\") (dim=2|id=644|\"Fermion,Site,n=33\") (dim=200|id=696|\"Link,l=32\") \n",
      "[34] IndexSet{3} (dim=200|id=591|\"Link,l=34\") (dim=2|id=837|\"Fermion,Site,n=34\") (dim=200|id=658|\"Link,l=33\") \n",
      "[35] IndexSet{3} (dim=200|id=771|\"Link,l=35\") (dim=2|id=689|\"Fermion,Site,n=35\") (dim=200|id=591|\"Link,l=34\") \n",
      "[36] IndexSet{3} (dim=200|id=561|\"Link,l=36\") (dim=2|id=467|\"Fermion,Site,n=36\") (dim=200|id=771|\"Link,l=35\") \n",
      "[37] IndexSet{3} (dim=200|id=984|\"Link,l=37\") (dim=2|id=216|\"Fermion,Site,n=37\") (dim=200|id=561|\"Link,l=36\") \n",
      "[38] IndexSet{3} (dim=200|id=320|\"Link,l=38\") (dim=2|id=122|\"Fermion,Site,n=38\") (dim=200|id=984|\"Link,l=37\") \n",
      "[39] IndexSet{3} (dim=200|id=483|\"Link,l=39\") (dim=2|id=89|\"Fermion,Site,n=39\") (dim=200|id=320|\"Link,l=38\") \n",
      "[40] IndexSet{3} (dim=200|id=863|\"Link,l=40\") (dim=2|id=817|\"Fermion,Site,n=40\") (dim=200|id=483|\"Link,l=39\") \n",
      "[41] IndexSet{3} (dim=200|id=843|\"Link,l=41\") (dim=2|id=22|\"Fermion,Site,n=41\") (dim=200|id=863|\"Link,l=40\") \n",
      "[42] IndexSet{3} (dim=200|id=9|\"Link,l=42\") (dim=2|id=886|\"Fermion,Site,n=42\") (dim=200|id=843|\"Link,l=41\") \n",
      "[43] IndexSet{3} (dim=200|id=864|\"Link,l=43\") (dim=2|id=653|\"Fermion,Site,n=43\") (dim=200|id=9|\"Link,l=42\") \n",
      "[44] IndexSet{3} (dim=200|id=364|\"Link,l=44\") (dim=2|id=558|\"Fermion,Site,n=44\") (dim=200|id=864|\"Link,l=43\") \n",
      "[45] IndexSet{3} (dim=200|id=645|\"Link,l=45\") (dim=2|id=161|\"Fermion,Site,n=45\") (dim=200|id=364|\"Link,l=44\") \n",
      "[46] IndexSet{3} (dim=200|id=487|\"Link,l=46\") (dim=2|id=453|\"Fermion,Site,n=46\") (dim=200|id=645|\"Link,l=45\") \n",
      "[47] IndexSet{3} (dim=200|id=871|\"Link,l=47\") (dim=2|id=212|\"Fermion,Site,n=47\") (dim=200|id=487|\"Link,l=46\") \n",
      "[48] IndexSet{3} (dim=200|id=385|\"Link,l=48\") (dim=2|id=314|\"Fermion,Site,n=48\") (dim=200|id=871|\"Link,l=47\") \n",
      "[49] IndexSet{3} (dim=200|id=264|\"Link,l=49\") (dim=2|id=958|\"Fermion,Site,n=49\") (dim=200|id=385|\"Link,l=48\") \n",
      "[50] IndexSet{3} (dim=200|id=545|\"Link,l=50\") (dim=2|id=511|\"Fermion,Site,n=50\") (dim=200|id=264|\"Link,l=49\") \n",
      "[51] IndexSet{3} (dim=200|id=841|\"Link,l=51\") (dim=2|id=925|\"Fermion,Site,n=51\") (dim=200|id=545|\"Link,l=50\") \n",
      "[52] IndexSet{3} (dim=200|id=639|\"Link,l=52\") (dim=2|id=578|\"Fermion,Site,n=52\") (dim=200|id=841|\"Link,l=51\") \n",
      "[53] IndexSet{3} (dim=200|id=508|\"Link,l=53\") (dim=2|id=989|\"Fermion,Site,n=53\") (dim=200|id=639|\"Link,l=52\") \n",
      "[54] IndexSet{3} (dim=200|id=630|\"Link,l=54\") (dim=2|id=467|\"Fermion,Site,n=54\") (dim=200|id=508|\"Link,l=53\") \n",
      "[55] IndexSet{3} (dim=200|id=85|\"Link,l=55\") (dim=2|id=601|\"Fermion,Site,n=55\") (dim=200|id=630|\"Link,l=54\") \n",
      "[56] IndexSet{3} (dim=200|id=114|\"Link,l=56\") (dim=2|id=59|\"Fermion,Site,n=56\") (dim=200|id=85|\"Link,l=55\") \n",
      "[57] IndexSet{3} (dim=200|id=333|\"Link,l=57\") (dim=2|id=361|\"Fermion,Site,n=57\") (dim=200|id=114|\"Link,l=56\") \n",
      "[58] IndexSet{3} (dim=200|id=150|\"Link,l=58\") (dim=2|id=95|\"Fermion,Site,n=58\") (dim=200|id=333|\"Link,l=57\") \n",
      "[59] IndexSet{3} (dim=200|id=725|\"Link,l=59\") (dim=2|id=702|\"Fermion,Site,n=59\") (dim=200|id=150|\"Link,l=58\") \n",
      "[60] IndexSet{3} (dim=200|id=974|\"Link,l=60\") (dim=2|id=758|\"Fermion,Site,n=60\") (dim=200|id=725|\"Link,l=59\") \n",
      "[61] IndexSet{3} (dim=200|id=189|\"Link,l=61\") (dim=2|id=935|\"Fermion,Site,n=61\") (dim=200|id=974|\"Link,l=60\") \n",
      "[62] IndexSet{3} (dim=200|id=353|\"Link,l=62\") (dim=2|id=466|\"Fermion,Site,n=62\") (dim=200|id=189|\"Link,l=61\") \n",
      "[63] IndexSet{3} (dim=200|id=784|\"Link,l=63\") (dim=2|id=685|\"Fermion,Site,n=63\") (dim=200|id=353|\"Link,l=62\") \n",
      "[64] IndexSet{3} (dim=200|id=919|\"Link,l=64\") (dim=2|id=472|\"Fermion,Site,n=64\") (dim=200|id=784|\"Link,l=63\") \n",
      "[65] IndexSet{3} (dim=200|id=424|\"Link,l=65\") (dim=2|id=710|\"Fermion,Site,n=65\") (dim=200|id=919|\"Link,l=64\") \n",
      "[66] IndexSet{3} (dim=200|id=248|\"Link,l=66\") (dim=2|id=1|\"Fermion,Site,n=66\") (dim=200|id=424|\"Link,l=65\") \n",
      "[67] IndexSet{3} (dim=200|id=480|\"Link,l=67\") (dim=2|id=94|\"Fermion,Site,n=67\") (dim=200|id=248|\"Link,l=66\") \n",
      "[68] IndexSet{3} (dim=200|id=873|\"Link,l=68\") (dim=2|id=615|\"Fermion,Site,n=68\") (dim=200|id=480|\"Link,l=67\") \n",
      "[69] IndexSet{3} (dim=200|id=748|\"Link,l=69\") (dim=2|id=697|\"Fermion,Site,n=69\") (dim=200|id=873|\"Link,l=68\") \n",
      "[70] IndexSet{3} (dim=200|id=690|\"Link,l=70\") (dim=2|id=720|\"Fermion,Site,n=70\") (dim=200|id=748|\"Link,l=69\") \n",
      "[71] IndexSet{3} (dim=200|id=436|\"Link,l=71\") (dim=2|id=620|\"Fermion,Site,n=71\") (dim=200|id=690|\"Link,l=70\") \n",
      "[72] IndexSet{3} (dim=200|id=511|\"Link,l=72\") (dim=2|id=244|\"Fermion,Site,n=72\") (dim=200|id=436|\"Link,l=71\") \n",
      "[73] IndexSet{3} (dim=200|id=336|\"Link,l=73\") (dim=2|id=885|\"Fermion,Site,n=73\") (dim=200|id=511|\"Link,l=72\") \n",
      "[74] IndexSet{3} (dim=200|id=891|\"Link,l=74\") (dim=2|id=425|\"Fermion,Site,n=74\") (dim=200|id=336|\"Link,l=73\") \n",
      "[75] IndexSet{3} (dim=200|id=50|\"Link,l=75\") (dim=2|id=84|\"Fermion,Site,n=75\") (dim=200|id=891|\"Link,l=74\") \n",
      "[76] IndexSet{3} (dim=200|id=321|\"Link,l=76\") (dim=2|id=829|\"Fermion,Site,n=76\") (dim=200|id=50|\"Link,l=75\") \n",
      "[77] IndexSet{3} (dim=200|id=74|\"Link,l=77\") (dim=2|id=685|\"Fermion,Site,n=77\") (dim=200|id=321|\"Link,l=76\") \n",
      "[78] IndexSet{3} (dim=200|id=560|\"Link,l=78\") (dim=2|id=303|\"Fermion,Site,n=78\") (dim=200|id=74|\"Link,l=77\") \n",
      "[79] IndexSet{3} (dim=200|id=640|\"Link,l=79\") (dim=2|id=279|\"Fermion,Site,n=79\") (dim=200|id=560|\"Link,l=78\") \n",
      "[80] IndexSet{3} (dim=200|id=402|\"Link,l=80\") (dim=2|id=494|\"Fermion,Site,n=80\") (dim=200|id=640|\"Link,l=79\") \n",
      "[81] IndexSet{3} (dim=200|id=179|\"Link,l=81\") (dim=2|id=171|\"Fermion,Site,n=81\") (dim=200|id=402|\"Link,l=80\") \n",
      "[82] IndexSet{3} (dim=200|id=703|\"Link,l=82\") (dim=2|id=265|\"Fermion,Site,n=82\") (dim=200|id=179|\"Link,l=81\") \n",
      "[83] IndexSet{3} (dim=200|id=685|\"Link,l=83\") (dim=2|id=492|\"Fermion,Site,n=83\") (dim=200|id=703|\"Link,l=82\") \n",
      "[84] IndexSet{3} (dim=200|id=931|\"Link,l=84\") (dim=2|id=762|\"Fermion,Site,n=84\") (dim=200|id=685|\"Link,l=83\") \n",
      "[85] IndexSet{3} (dim=200|id=237|\"Link,l=85\") (dim=2|id=329|\"Fermion,Site,n=85\") (dim=200|id=931|\"Link,l=84\") \n",
      "[86] IndexSet{3} (dim=200|id=234|\"Link,l=86\") (dim=2|id=263|\"Fermion,Site,n=86\") (dim=200|id=237|\"Link,l=85\") \n",
      "[87] IndexSet{3} (dim=200|id=572|\"Link,l=87\") (dim=2|id=577|\"Fermion,Site,n=87\") (dim=200|id=234|\"Link,l=86\") \n",
      "[88] IndexSet{3} (dim=200|id=781|\"Link,l=88\") (dim=2|id=593|\"Fermion,Site,n=88\") (dim=200|id=572|\"Link,l=87\") \n",
      "[89] IndexSet{3} (dim=200|id=779|\"Link,l=89\") (dim=2|id=332|\"Fermion,Site,n=89\") (dim=200|id=781|\"Link,l=88\") \n",
      "[90] IndexSet{3} (dim=200|id=283|\"Link,l=90\") (dim=2|id=266|\"Fermion,Site,n=90\") (dim=200|id=779|\"Link,l=89\") \n",
      "[91] IndexSet{3} (dim=200|id=440|\"Link,l=91\") (dim=2|id=228|\"Fermion,Site,n=91\") (dim=200|id=283|\"Link,l=90\") \n",
      "[92] IndexSet{3} (dim=200|id=399|\"Link,l=92\") (dim=2|id=96|\"Fermion,Site,n=92\") (dim=200|id=440|\"Link,l=91\") \n",
      "[93] IndexSet{3} (dim=128|id=247|\"Link,l=93\") (dim=2|id=703|\"Fermion,Site,n=93\") (dim=200|id=399|\"Link,l=92\") \n",
      "[94] IndexSet{3} (dim=64|id=434|\"Link,l=94\") (dim=2|id=321|\"Fermion,Site,n=94\") (dim=128|id=247|\"Link,l=93\") \n",
      "[95] IndexSet{3} (dim=32|id=964|\"Link,l=95\") (dim=2|id=772|\"Fermion,Site,n=95\") (dim=64|id=434|\"Link,l=94\") \n",
      "[96] IndexSet{3} (dim=16|id=588|\"Link,l=96\") (dim=2|id=433|\"Fermion,Site,n=96\") (dim=32|id=964|\"Link,l=95\") \n",
      "[97] IndexSet{3} (dim=8|id=437|\"Link,l=97\") (dim=2|id=238|\"Fermion,Site,n=97\") (dim=16|id=588|\"Link,l=96\") \n",
      "[98] IndexSet{3} (dim=4|id=324|\"Link,l=98\") (dim=2|id=160|\"Fermion,Site,n=98\") (dim=8|id=437|\"Link,l=97\") \n",
      "[99] IndexSet{3} (dim=2|id=372|\"Link,l=99\") (dim=2|id=746|\"Fermion,Site,n=99\") (dim=4|id=324|\"Link,l=98\") \n",
      "[100] IndexSet{2} (dim=2|id=288|\"Fermion,Site,n=100\") (dim=2|id=372|\"Link,l=99\") \n"
     ]
    }
   ],
   "source": [
    "\n",
    "  # Create 100 spin-one indices\n",
    "  N = 100\n",
    "  sites = siteinds(\"Fermion\",N)\n",
    "\n",
    "  # Input operator terms which define\n",
    "  # a Hamiltonian matrix, and convert\n",
    "  # these terms to an MPO tensor network\n",
    "  # (here we make the 1D Heisenberg model)\n",
    "  ampo = AutoMPO()\n",
    "  for j=1:N-1\n",
    "    ampo += \"C\",j,\"Cdag\",j+1\n",
    "    ampo += \"Cdag\",j,\"C\",j+1\n",
    "    \n",
    "  end\n",
    "  H = MPO(ampo,sites)\n",
    "\n",
    "  # Create an initial random matrix product state\n",
    "  psi0 = randomMPS(sites)\n",
    "\n",
    "  # Plan to do 5 passes or 'sweeps' of DMRG,\n",
    "  # setting maximum MPS internal dimensions\n",
    "  # for each sweep and maximum truncation cutoff\n",
    "  # used when adapting internal dimensions:\n",
    "  sweeps = Sweeps(5)\n",
    "  maxdim!(sweeps, 10,20,100,100,200)\n",
    "  cutoff!(sweeps, 1E-10)\n",
    "  @show sweeps\n",
    "\n",
    "  # Run the DMRG algorithm, returning energy\n",
    "  # (dominant eigenvalue) and optimized MPS\n",
    "  energy, psi = dmrg(H,psi0, sweeps)\n",
    "  println(\"Final energy = $energy\")\n",
    "  print(psi)\n"
   ]
  },
  {
   "cell_type": "code",
   "execution_count": 62,
   "id": "c1a63708-1431-4529-9617-0f95ed249123",
   "metadata": {},
   "outputs": [
    {
     "ename": "LoadError",
     "evalue": "UndefVarError: correlation_matrix not defined",
     "output_type": "error",
     "traceback": [
      "UndefVarError: correlation_matrix not defined",
      "",
      "Stacktrace:",
      " [1] top-level scope",
      "   @ In[62]:1",
      " [2] eval",
      "   @ .\\boot.jl:360 [inlined]",
      " [3] include_string(mapexpr::typeof(REPL.softscope), mod::Module, code::String, filename::String)",
      "   @ Base .\\loading.jl:1116"
     ]
    }
   ],
   "source": [
    "C=correlation_matrix(psi,\"Cdag\",\"C\")"
   ]
  },
  {
   "cell_type": "code",
   "execution_count": 61,
   "id": "6c47f68a-4312-4d65-927d-a4435a8a827d",
   "metadata": {},
   "outputs": [
    {
     "data": {
      "text/plain": [
       "ITensors"
      ]
     },
     "execution_count": 61,
     "metadata": {},
     "output_type": "execute_result"
    }
   ],
   "source": [
    "ITensors."
   ]
  },
  {
   "cell_type": "code",
   "execution_count": 71,
   "id": "94f99ca8-36c1-45c5-907c-9c7debc61af5",
   "metadata": {},
   "outputs": [
    {
     "ename": "LoadError",
     "evalue": "MethodError: no method matching siteinds()\n\u001b[0mClosest candidates are:\n\u001b[0m  siteinds(\u001b[91m::MPS\u001b[39m) at C:\\Users\\jogib\\.julia\\packages\\ITensors\\cdtHc\\src\\mps\\mps.jl:335\n\u001b[0m  siteinds(\u001b[91m::SiteType\u001b[39m, \u001b[91m::Any\u001b[39m; kwargs...) at C:\\Users\\jogib\\.julia\\packages\\ITensors\\cdtHc\\src\\physics\\sitetype.jl:326\n\u001b[0m  siteinds(\u001b[91m::String\u001b[39m, \u001b[91m::Integer\u001b[39m; kwargs...) at C:\\Users\\jogib\\.julia\\packages\\ITensors\\cdtHc\\src\\physics\\sitetype.jl:328\n\u001b[0m  ...",
     "output_type": "error",
     "traceback": [
      "MethodError: no method matching siteinds()\n\u001b[0mClosest candidates are:\n\u001b[0m  siteinds(\u001b[91m::MPS\u001b[39m) at C:\\Users\\jogib\\.julia\\packages\\ITensors\\cdtHc\\src\\mps\\mps.jl:335\n\u001b[0m  siteinds(\u001b[91m::SiteType\u001b[39m, \u001b[91m::Any\u001b[39m; kwargs...) at C:\\Users\\jogib\\.julia\\packages\\ITensors\\cdtHc\\src\\physics\\sitetype.jl:326\n\u001b[0m  siteinds(\u001b[91m::String\u001b[39m, \u001b[91m::Integer\u001b[39m; kwargs...) at C:\\Users\\jogib\\.julia\\packages\\ITensors\\cdtHc\\src\\physics\\sitetype.jl:328\n\u001b[0m  ...",
      "",
      "Stacktrace:",
      " [1] top-level scope",
      "   @ In[71]:3",
      " [2] eval",
      "   @ .\\boot.jl:360 [inlined]",
      " [3] include_string(mapexpr::typeof(REPL.softscope), mod::Module, code::String, filename::String)",
      "   @ Base .\\loading.jl:1116"
     ]
    }
   ],
   "source": [
    "using ITensors\n",
    "N = 10\n",
    "s = siteinds()\n",
    "\n",
    "# Make all of the operators\n",
    "#X = ops(s, [(\"X\", n) for n in 1:N])"
   ]
  },
  {
   "cell_type": "code",
   "execution_count": 129,
   "id": "93a500ed-4b8a-4c29-a5d2-4cd292cf9167",
   "metadata": {},
   "outputs": [],
   "source": [
    "for nm in names(ITensors)\n",
    "   x = @eval @doc $nm\n",
    "   print(nm)\n",
    "end"
   ]
  },
  {
   "cell_type": "code",
   "execution_count": 130,
   "id": "038f9350-b65b-4852-8377-b2096ab48892",
   "metadata": {},
   "outputs": [],
   "source": [
    "for i in names(ITensors)\n",
    "    x=@eval @doc $i\n",
    "    print(x)\n",
    "end"
   ]
  },
  {
   "cell_type": "code",
   "execution_count": 128,
   "id": "2fc9222c-334d-4e51-959e-28c82a9eb3f6",
   "metadata": {},
   "outputs": [
    {
     "ename": "LoadError",
     "evalue": "MethodError: no method matching op(::Vector{Index{Int64}}, ::Vector{Tuple{String, Int64}})\n\u001b[0mClosest candidates are:\n\u001b[0m  op(::Vector{var\"#s199\"} where var\"#s199\"<:Index, \u001b[91m::AbstractString\u001b[39m, \u001b[91m::Int64...\u001b[39m; kwargs...) at C:\\Users\\jogib\\.julia\\packages\\ITensors\\cdtHc\\src\\physics\\sitetype.jl:249",
     "output_type": "error",
     "traceback": [
      "MethodError: no method matching op(::Vector{Index{Int64}}, ::Vector{Tuple{String, Int64}})\n\u001b[0mClosest candidates are:\n\u001b[0m  op(::Vector{var\"#s199\"} where var\"#s199\"<:Index, \u001b[91m::AbstractString\u001b[39m, \u001b[91m::Int64...\u001b[39m; kwargs...) at C:\\Users\\jogib\\.julia\\packages\\ITensors\\cdtHc\\src\\physics\\sitetype.jl:249",
      "",
      "Stacktrace:",
      " [1] top-level scope",
      "   @ In[128]:8",
      " [2] eval",
      "   @ .\\boot.jl:360 [inlined]",
      " [3] include_string(mapexpr::typeof(REPL.softscope), mod::Module, code::String, filename::String)",
      "   @ Base .\\loading.jl:1116"
     ]
    }
   ],
   "source": [
    "using ITensors\n",
    "let\n",
    "  # Create 100 spin-one indices\n",
    "  N = 10\n",
    "  s = siteinds(\"S=1/2\",N)\n",
    "\n",
    "# Make all of the operators\n",
    "  X = op(s, [(\"x\", n) for n in 1:N])\n",
    "end"
   ]
  },
  {
   "cell_type": "code",
   "execution_count": 118,
   "id": "296594f1-0b9c-4c2c-841d-2e1eec9cadd9",
   "metadata": {},
   "outputs": [
    {
     "ename": "LoadError",
     "evalue": "UndefVarError: ops not defined",
     "output_type": "error",
     "traceback": [
      "UndefVarError: ops not defined",
      "",
      "Stacktrace:",
      " [1] top-level scope",
      "   @ In[118]:5",
      " [2] eval",
      "   @ .\\boot.jl:360 [inlined]",
      " [3] include_string(mapexpr::typeof(REPL.softscope), mod::Module, code::String, filename::String)",
      "   @ Base .\\loading.jl:1116"
     ]
    }
   ],
   "source": [
    "N = 10\n",
    "  s = siteinds(\"S=1/2\",N)\n",
    "\n",
    "# Make all of the operators\n",
    "  X = ops(s, [(\"x\", n) for n in 1:N])"
   ]
  },
  {
   "cell_type": "code",
   "execution_count": 131,
   "id": "68108a6d-efba-4910-af05-a21dffa8dfa6",
   "metadata": {},
   "outputs": [
    {
     "ename": "LoadError",
     "evalue": "UndefVarError: OpSum not defined",
     "output_type": "error",
     "traceback": [
      "UndefVarError: OpSum not defined",
      "",
      "Stacktrace:",
      " [1] top-level scope",
      "   @ In[131]:1",
      " [2] eval",
      "   @ .\\boot.jl:360 [inlined]",
      " [3] include_string(mapexpr::typeof(REPL.softscope), mod::Module, code::String, filename::String)",
      "   @ Base .\\loading.jl:1116"
     ]
    }
   ],
   "source": [
    "OpSum()"
   ]
  },
  {
   "cell_type": "code",
   "execution_count": null,
   "id": "c81372c2-1a26-42c7-81fb-0a8dc2ed8718",
   "metadata": {},
   "outputs": [],
   "source": []
  }
 ],
 "metadata": {
  "kernelspec": {
   "display_name": "Julia 1.6.7",
   "language": "julia",
   "name": "julia-1.6"
  },
  "language_info": {
   "file_extension": ".jl",
   "mimetype": "application/julia",
   "name": "julia",
   "version": "1.6.7"
  }
 },
 "nbformat": 4,
 "nbformat_minor": 5
}
